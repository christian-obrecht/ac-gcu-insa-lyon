{
 "cells": [
  {
   "cell_type": "markdown",
   "metadata": {
    "lines_to_next_cell": 0,
    "slideshow": {
     "slide_type": "slide"
    }
   },
   "source": [
    "# TD5 - Exercice 1\n",
    "Niveau sonore dans le local de réception :\n",
    "$$L_2=L_1-D_b$$\n"
   ]
  },
  {
   "cell_type": "markdown",
   "metadata": {
    "lines_to_next_cell": 0,
    "slideshow": {
     "slide_type": "fragment"
    }
   },
   "source": [
    "Isolement brut par bande d’octave :\n",
    "$$D_b=R+10\\log\\left(\\frac{CL}{S_s}\\right)$$\n",
    "avec $S_s$ surface du séparatif.\n"
   ]
  },
  {
   "cell_type": "markdown",
   "metadata": {
    "lines_to_next_cell": 0,
    "slideshow": {
     "slide_type": "fragment"
    }
   },
   "source": [
    "Constante du local :\n",
    "$$CL=\\frac{A}{1-A/S}$$\n"
   ]
  },
  {
   "cell_type": "markdown",
   "metadata": {
    "slideshow": {
     "slide_type": "fragment"
    }
   },
   "source": [
    "Aire équivalente d’absorption :\n",
    "$$A=\\frac{0{,}163V}{T_r}$$"
   ]
  },
  {
   "cell_type": "code",
   "execution_count": 2,
   "metadata": {
    "hideCode": true,
    "hidePrompt": true,
    "slideshow": {
     "slide_type": "skip"
    }
   },
   "outputs": [],
   "source": [
    "\"\"\"\n",
    "INSA Lyon - Département Génie Civil et Urbanisme\n",
    "Travaux dirigés d'acoustique du bâtiment\n",
    "\n",
    "Copyright © 2021 Christian Obrecht <christian.obrecht@insa-lyon.fr>\n",
    "\n",
    "Ce document est distribué sous licence Creative Commons CC-BY-NC-SA\n",
    "\"\"\"\n",
    "\n",
    "from math import log10\n",
    "from pandas import DataFrame, set_option\n",
    "\n",
    "# Somme logarithmique d'une liste\n",
    "def lsum(L):\n",
    "    return 10*log10(sum([10**(l/10) for l in L]))\n",
    "\n",
    "# Présentation sous la forme d'un tableau\n",
    "def table(d):\n",
    "    display(DataFrame(d).set_index(list(d.keys())[0]).T)\n",
    "\n",
    "set_option(\"display.precision\", 1)"
   ]
  },
  {
   "cell_type": "code",
   "execution_count": 4,
   "metadata": {
    "hideCode": false,
    "hidePrompt": true,
    "lines_to_next_cell": 0,
    "slideshow": {
     "slide_type": "subslide"
    }
   },
   "outputs": [
    {
     "data": {
      "text/html": [
       "<div>\n",
       "<style scoped>\n",
       "    .dataframe tbody tr th:only-of-type {\n",
       "        vertical-align: middle;\n",
       "    }\n",
       "\n",
       "    .dataframe tbody tr th {\n",
       "        vertical-align: top;\n",
       "    }\n",
       "\n",
       "    .dataframe thead th {\n",
       "        text-align: right;\n",
       "    }\n",
       "</style>\n",
       "<table border=\"1\" class=\"dataframe\">\n",
       "  <thead>\n",
       "    <tr style=\"text-align: right;\">\n",
       "      <th>Fréquence [Hz]</th>\n",
       "      <th>125</th>\n",
       "      <th>250</th>\n",
       "      <th>500</th>\n",
       "      <th>1000</th>\n",
       "      <th>2000</th>\n",
       "      <th>4000</th>\n",
       "    </tr>\n",
       "  </thead>\n",
       "  <tbody>\n",
       "    <tr>\n",
       "      <th>$D_b$ [dB]</th>\n",
       "      <td>49.0</td>\n",
       "      <td>50.0</td>\n",
       "      <td>59.0</td>\n",
       "      <td>66.0</td>\n",
       "      <td>72.0</td>\n",
       "      <td>77.0</td>\n",
       "    </tr>\n",
       "    <tr>\n",
       "      <th>$L_1$ [dB(A)]</th>\n",
       "      <td>83.9</td>\n",
       "      <td>91.4</td>\n",
       "      <td>96.8</td>\n",
       "      <td>100.0</td>\n",
       "      <td>101.2</td>\n",
       "      <td>101.0</td>\n",
       "    </tr>\n",
       "    <tr>\n",
       "      <th>$L_2$ [dB(A)]</th>\n",
       "      <td>34.9</td>\n",
       "      <td>41.4</td>\n",
       "      <td>37.8</td>\n",
       "      <td>34.0</td>\n",
       "      <td>29.2</td>\n",
       "      <td>24.0</td>\n",
       "    </tr>\n",
       "  </tbody>\n",
       "</table>\n",
       "</div>"
      ],
      "text/plain": [
       "Fréquence [Hz]  125   250   500    1000   2000   4000\n",
       "$D_b$ [dB]      49.0  50.0  59.0   66.0   72.0   77.0\n",
       "$L_1$ [dB(A)]   83.9  91.4  96.8  100.0  101.2  101.0\n",
       "$L_2$ [dB(A)]   34.9  41.4  37.8   34.0   29.2   24.0"
      ]
     },
     "metadata": {},
     "output_type": "display_data"
    },
    {
     "name": "stdout",
     "output_type": "stream",
     "text": [
      "Isolement brut global pondéré : 62.0 dB(A)\n"
     ]
    }
   ],
   "source": [
    "F = [125, 250, 500, 1000, 2000, 4000]\n",
    "P = [-16.1, -8.6, -3.2, 0, 1.2, 1]\n",
    "\n",
    "V = 40\n",
    "S = 72\n",
    "Ss = 10\n",
    "\n",
    "R = [47, 48, 57, 64, 70, 75]\n",
    "\n",
    "Tr = 0.5\n",
    "A = 0.163*V/Tr\n",
    "CL = A/(1 - A/S)\n",
    "\n",
    "Db = [r + 10*log10(CL/Ss) for r in R]\n",
    "L1 = [100 + p for p in P]\n",
    "L2 = [l1 - db for l1, db in zip(L1, Db)]\n",
    "\n",
    "table({'Fréquence [Hz]': F, '$D_b$ [dB]': Db, '$L_1$ [dB(A)]': L1, '$L_2$ [dB(A)]': L2})\n",
    "\n",
    "print(f\"Isolement brut global pondéré : {lsum(L1) - lsum(L2):.1f} dB(A)\")"
   ]
  },
  {
   "cell_type": "markdown",
   "metadata": {
    "slideshow": {
     "slide_type": "-"
    }
   },
   "source": [
    "L’isolement brut reste conforme aux normes, même si l’on tient compte des\n",
    "transmissions latérales en retranchant 5 dB."
   ]
  }
 ],
 "metadata": {
  "celltoolbar": "Format de la Cellule Texte Brut",
  "hide_code_all_hidden": false,
  "jupytext": {
   "encoding": "# -*- coding: utf-8 -*-"
  },
  "kernelspec": {
   "display_name": "Python 3",
   "language": "python",
   "name": "python3"
  },
  "language_info": {
   "codemirror_mode": {
    "name": "ipython",
    "version": 3
   },
   "file_extension": ".py",
   "mimetype": "text/x-python",
   "name": "python",
   "nbconvert_exporter": "python",
   "pygments_lexer": "ipython3",
   "version": "3.8.5"
  }
 },
 "nbformat": 4,
 "nbformat_minor": 4
}
