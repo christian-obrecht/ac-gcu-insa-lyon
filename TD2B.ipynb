{
 "cells": [
  {
   "cell_type": "code",
   "execution_count": null,
   "metadata": {
    "hideCode": true,
    "hidePrompt": true,
    "slideshow": {
     "slide_type": "skip"
    }
   },
   "outputs": [],
   "source": [
    "\"\"\"\n",
    "INSA Lyon - Département Génie Civil et Urbanisme\n",
    "Travaux dirigés d'acoustique du bâtiment\n",
    "\n",
    "Copyright © 2021 Christian Obrecht <christian.obrecht@insa-lyon.fr>\n",
    "\n",
    "Ce document est distribué sous licence Creative Commons CC-BY-NC-SA\n",
    "\"\"\""
   ]
  },
  {
   "cell_type": "markdown",
   "metadata": {
    "slideshow": {
     "slide_type": "slide"
    }
   },
   "source": [
    "# TD2 - Exercice 2\n",
    "\n",
    "## 1. Puissance rayonnée\n",
    "\n",
    "$$W = \\int_S I {\\rm d}S$$\n",
    "\n",
    "On découpe la sphère en deux *calottes* et cinq *zones*.\n",
    "$$W = \\sum_{i=0}^6{\\cal A}_i\\cdot I_0\\cdot10^\\frac{L_i}{10}$$"
   ]
  },
  {
   "cell_type": "markdown",
   "metadata": {
    "slideshow": {
     "slide_type": "subslide"
    }
   },
   "source": [
    "Aire d'une zone ou d'une calotte :\n",
    "$${\\cal A}=2\\pi\\cdot r\\cdot h$$"
   ]
  },
  {
   "cell_type": "markdown",
   "metadata": {
    "slideshow": {
     "slide_type": "fragment"
    }
   },
   "source": [
    "Pour les calottes :\n",
    "$${\\cal A}_0 = {\\cal A}_6 = 2\\pi\\cdot r^2\\left(1 - \\cos 15^\\circ\\right)$$\n",
    "\n",
    "Pour les zones :\n",
    "$${\\cal A}_i = 2\\pi\\cdot r^2\\left(\\cos(\\theta_i-15^\\circ) - \\cos(\\theta_i+15^\\circ)\\right)$$"
   ]
  },
  {
   "cell_type": "code",
   "execution_count": 1,
   "metadata": {
    "hidePrompt": true,
    "slideshow": {
     "slide_type": "subslide"
    }
   },
   "outputs": [
    {
     "name": "stdout",
     "output_type": "stream",
     "text": [
      "Puissance rayonnée : W = 1.010e-04 W\n"
     ]
    }
   ],
   "source": [
    "from math import radians as rad, pi, cos, log10\n",
    "\n",
    "L = [70, 68, 64, 60, 58, 56, 56]\n",
    "\n",
    "r = 2\n",
    "def A(θ1, θ2): return 2*pi*r*r*(cos(rad(θ1)) - cos(rad(θ2)))\n",
    "\n",
    "I0 = 1e-12\n",
    "def I(l): return I0*10**(l/10)\n",
    "\n",
    "t1 = [0, 15, 45, 75, 105, 135, 165]\n",
    "t2 = [15, 45, 75, 105, 135, 165, 180]\n",
    "\n",
    "W = sum(A(θ1, θ2)*I(l) for θ1, θ2, l in zip(t1, t2, L))\n",
    "\n",
    "print(f\"Puissance rayonnée : W = {W:4.3e} W\")"
   ]
  },
  {
   "cell_type": "markdown",
   "metadata": {
    "slideshow": {
     "slide_type": "subslide"
    }
   },
   "source": [
    "## 2. Facteurs de directivité\n",
    "$$Q=\\frac{I}{\\frac{W}{4\\pi r^2}}$$"
   ]
  },
  {
   "cell_type": "code",
   "execution_count": 3,
   "metadata": {
    "hidePrompt": true,
    "slideshow": {
     "slide_type": "fragment"
    }
   },
   "outputs": [
    {
     "name": "stdout",
     "output_type": "stream",
     "text": [
      "Q0 = 4.98\n",
      "Q6 = 0.20\n"
     ]
    }
   ],
   "source": [
    "Omni = W/(4*pi*r*r)\n",
    "Q = [I(l)/Omni for l in L]\n",
    "print(f\"Q0 = {Q[0]:.2f}\")\n",
    "print(f\"Q6 = {Q[6]:.2f}\")"
   ]
  },
  {
   "cell_type": "markdown",
   "metadata": {
    "slideshow": {
     "slide_type": "subslide"
    }
   },
   "source": [
    "## 3. Niveau à 20 m\n",
    "$$L(r)=10\\log\\frac{W}{W_0}+10\\log\\frac{Q}{4\\pi r^2}$$"
   ]
  },
  {
   "cell_type": "code",
   "execution_count": 4,
   "metadata": {
    "hidePrompt": true,
    "slideshow": {
     "slide_type": "fragment"
    }
   },
   "outputs": [
    {
     "name": "stdout",
     "output_type": "stream",
     "text": [
      "L = 50.0 dB\n"
     ]
    }
   ],
   "source": [
    "r = 20\n",
    "W0 = 1e-12\n",
    "Lr = 10*log10(W/W0) + 10*log10(Q[0]/(4*pi*r*r))\n",
    "print(f\"L = {Lr:.1f} dB\")"
   ]
  }
 ],
 "metadata": {
  "celltoolbar": "Hide code",
  "kernelspec": {
   "display_name": "Python 3",
   "language": "python",
   "name": "python3"
  },
  "language_info": {
   "codemirror_mode": {
    "name": "ipython",
    "version": 3
   },
   "file_extension": ".py",
   "mimetype": "text/x-python",
   "name": "python",
   "nbconvert_exporter": "python",
   "pygments_lexer": "ipython3",
   "version": "3.8.5"
  }
 },
 "nbformat": 4,
 "nbformat_minor": 4
}
