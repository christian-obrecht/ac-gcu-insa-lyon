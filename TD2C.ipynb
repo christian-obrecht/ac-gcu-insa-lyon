{
 "cells": [
  {
   "cell_type": "markdown",
   "metadata": {
    "slideshow": {
     "slide_type": "slide"
    }
   },
   "source": [
    "# TD 2 - Exercice 3\n",
    "## 1. Calcul du niveau équivalent"
   ]
  },
  {
   "cell_type": "markdown",
   "metadata": {
    "slideshow": {
     "slide_type": "fragment"
    }
   },
   "source": [
    "$$L_{eq} = 10\\log\\frac{I_{eq}}{I_0}\\textrm{ avec }I_{eq} = \\frac{1}{2t_0}\\int_{-t_0}^{t_0} I(t) {\\rm d}t$$"
   ]
  },
  {
   "cell_type": "markdown",
   "metadata": {
    "slideshow": {
     "slide_type": "fragment"
    }
   },
   "source": [
    "$$I(t)=\\frac{W}{2\\pi r^2(t)}$$"
   ]
  },
  {
   "cell_type": "markdown",
   "metadata": {
    "slideshow": {
     "slide_type": "fragment"
    }
   },
   "source": [
    "$$I_{eq} = \\frac{W}{4\\pi t_0}J \\textrm{ avec } J = \\int_{-t_0}^{t_0}\\frac{{\\rm d}t}{r^2(t)}$$"
   ]
  },
  {
   "cell_type": "markdown",
   "metadata": {
    "slideshow": {
     "slide_type": "fragment"
    }
   },
   "source": [
    "$$r^2(t) = d^2 + h^2 + x^2(t) = d^2 + h^2 + v^2t^2$$"
   ]
  },
  {
   "cell_type": "markdown",
   "metadata": {
    "slideshow": {
     "slide_type": "subslide"
    }
   },
   "source": [
    "$$J = \\int_{-t_0}^{t_0}\\frac{{\\rm d}t}{d^2 + h^2 + v^2t^2}$$"
   ]
  },
  {
   "cell_type": "markdown",
   "metadata": {
    "slideshow": {
     "slide_type": "fragment"
    }
   },
   "source": [
    "$$ = \\frac{1}{d^2 + h^2}\\int_{-t_0}^{t_0} \\frac{\\textrm{d}t}{1 + \\frac{v^2t^2}{d^2 + h^2}}$$"
   ]
  },
  {
   "cell_type": "markdown",
   "metadata": {
    "slideshow": {
     "slide_type": "fragment"
    }
   },
   "source": [
    "$$u = \\frac{vt}{\\sqrt{d^2+h^2}}$$"
   ]
  },
  {
   "cell_type": "markdown",
   "metadata": {
    "slideshow": {
     "slide_type": "fragment"
    }
   },
   "source": [
    "$$u_0 = \\frac{vt_0}{\\sqrt{d^2+h^2}} \\textrm{ et } {\\rm d}t = \\frac{\\sqrt{d^2+h^2}}{v}{\\rm d}u$$"
   ]
  },
  {
   "cell_type": "markdown",
   "metadata": {
    "slideshow": {
     "slide_type": "subslide"
    }
   },
   "source": [
    "$$J = \\frac{1}{v\\sqrt{d^2+h^2}}\\int_{-u_0}^{u_0}\\frac{{\\rm d}u}{1+u^2}$$"
   ]
  },
  {
   "cell_type": "markdown",
   "metadata": {
    "slideshow": {
     "slide_type": "fragment"
    }
   },
   "source": [
    "$$ = \\frac{1}{v\\sqrt{d^2+h^2}}\\Big[\\tan^{-1}u\\Big]_{-u_0}^{u_0}$$"
   ]
  },
  {
   "cell_type": "markdown",
   "metadata": {
    "slideshow": {
     "slide_type": "fragment"
    }
   },
   "source": [
    "$$I_{eq} = \\frac{W}{4\\pi t_0}\\times\\frac{1}{v\\sqrt{d^2+h^2}}\n",
    "\\left[\\tan^{-1}\\left(\\frac{vt_0}{\\sqrt{d^2+h^2}}\\right)\n",
    "-\\tan^{-1}\\left(-\\frac{vt_0}{\\sqrt{d^2+h^2}}\\right)\\right]$$"
   ]
  },
  {
   "cell_type": "markdown",
   "metadata": {
    "slideshow": {
     "slide_type": "fragment"
    }
   },
   "source": [
    "$$ = \\frac{W}{2\\pi vt_0\\sqrt{d^2+h^2}}\\tan^{-1}\\left(\\frac{vt_0}{\\sqrt{d^2+h^2}}\\right)$$"
   ]
  },
  {
   "cell_type": "code",
   "execution_count": 1,
   "metadata": {
    "hideCode": true,
    "hidePrompt": true,
    "slideshow": {
     "slide_type": "skip"
    }
   },
   "outputs": [],
   "source": [
    "\"\"\"\n",
    "INSA Lyon - Département Génie Civil et Urbanisme\n",
    "Travaux dirigés d'acoustique du bâtiment\n",
    "\n",
    "Copyright © 2021 Christian Obrecht <christian.obrecht@insa-lyon.fr>\n",
    "\n",
    "Ce document est distribué sous licence Creative Commons CC-BY-NC-SA\n",
    "\"\"\"\n",
    "\n",
    "from math import hypot, atan, pi, log10"
   ]
  },
  {
   "cell_type": "code",
   "execution_count": 2,
   "metadata": {
    "hideCode": false,
    "hidePrompt": true,
    "slideshow": {
     "slide_type": "subslide"
    }
   },
   "outputs": [
    {
     "name": "stdout",
     "output_type": "stream",
     "text": [
      "Leq = 63.2 dB\n"
     ]
    }
   ],
   "source": [
    "W = 0.1\n",
    "v = 72/3.6\n",
    "t0 = 10\n",
    "d = 50\n",
    "h = 4\n",
    "I0 = 1e-12\n",
    "\n",
    "H = hypot(d, h)\n",
    "Ieq = W*atan(v*t0/H)/(2*pi*v*t0*H)\n",
    "Leq = 10*log10(Ieq/I0)\n",
    "\n",
    "print(f\"Leq = {Leq:.1f} dB\")"
   ]
  },
  {
   "cell_type": "markdown",
   "metadata": {
    "slideshow": {
     "slide_type": "subslide"
    }
   },
   "source": [
    "## 2. Niveau équivalent pour 1000 véhicules par heure"
   ]
  },
  {
   "cell_type": "markdown",
   "metadata": {
    "slideshow": {
     "slide_type": "fragment"
    }
   },
   "source": [
    "$$L'_{eq} = 10\\log\\frac{I'_{eq}}{I_0} \\textrm{ avec } I'_{eq} = \\frac{2t_0}{3600}\\times1000I_{eq}$$"
   ]
  },
  {
   "cell_type": "code",
   "execution_count": 3,
   "metadata": {
    "hidePrompt": true,
    "slideshow": {
     "slide_type": "fragment"
    }
   },
   "outputs": [
    {
     "name": "stdout",
     "output_type": "stream",
     "text": [
      "L'eq = 70.7 dB\n"
     ]
    }
   ],
   "source": [
    "Ieq1000 = 2*t0*1000*Ieq/3600\n",
    "Leq1000 = 10*log10(Ieq1000/I0)\n",
    "print(f\"L'eq = {Leq1000:.1f} dB\")"
   ]
  }
 ],
 "metadata": {
  "celltoolbar": "Aucun(e)",
  "kernelspec": {
   "display_name": "Python 3",
   "language": "python",
   "name": "python3"
  },
  "language_info": {
   "codemirror_mode": {
    "name": "ipython",
    "version": 3
   },
   "file_extension": ".py",
   "mimetype": "text/x-python",
   "name": "python",
   "nbconvert_exporter": "python",
   "pygments_lexer": "ipython3",
   "version": "3.8.5"
  }
 },
 "nbformat": 4,
 "nbformat_minor": 4
}
