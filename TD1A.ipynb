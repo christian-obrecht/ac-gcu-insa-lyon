{
 "cells": [
  {
   "cell_type": "markdown",
   "metadata": {
    "hideCode": false,
    "hidePrompt": false,
    "slideshow": {
     "slide_type": "slide"
    }
   },
   "source": [
    "# TD1 - Exercice 1\n",
    "Soit un signal sonore périodique dont la pression acoustique instantanée est donnée sur la figure ci-dessous.\n",
    "\n",
    "1. À partir du calcul de la pression acoustique efficace, déterminer le niveau de pression.\n",
    "2. Tracer le spectre de la pression acoustique pour des fréquences allant jusqu’à 700 Hz.\n",
    "3. Donner le spectre en bandes d’octave de ce son."
   ]
  },
  {
   "cell_type": "code",
   "execution_count": null,
   "metadata": {
    "hideCode": true,
    "hideOutput": false,
    "hidePrompt": true,
    "slideshow": {
     "slide_type": "-"
    }
   },
   "outputs": [],
   "source": [
    "\"\"\"\n",
    "INSA Lyon - Département Génie Civil et Urbanisme\n",
    "Travaux dirigés d'acoustique du bâtiment\n",
    "\n",
    "Copyright © 2021 Christian Obrecht <christian.obrecht@insa-lyon.fr>\n",
    "\n",
    "Ce document est distribué sous licence Creative Commons CC-BY-NC-SA\n",
    "\"\"\"\n",
    "\n",
    "from math import remainder, log10, pi, sin, sqrt\n",
    "from numpy import linspace, array, int16\n",
    "from ipywidgets import interactive, IntSlider\n",
    "import matplotlib.pyplot as plt\n",
    "\n",
    "# Représentation graphique\n",
    "def draw(x, lx, y, ly, size = (12, 6), diagram = plt.plot):\n",
    "    plt.figure(figsize = size)\n",
    "    plt.xlabel(lx)\n",
    "    plt.ylabel(ly)\n",
    "    plt.grid(alpha =.6, linestyle =':')\n",
    "    diagram(x, y)\n",
    "    plt.show()"
   ]
  },
  {
   "cell_type": "code",
   "execution_count": null,
   "metadata": {
    "hideCode": true,
    "hideOutput": false,
    "hidePrompt": true,
    "slideshow": {
     "slide_type": "-"
    }
   },
   "outputs": [],
   "source": [
    "T = 0.01 # Période\n",
    "\n",
    "# Pression acoustique instantanée\n",
    "def p(t):\n",
    "    return 2 if remainder(t, T) > 0 else -2\n",
    "\n",
    "x = linspace(0, 0.026, 500) # Temps\n",
    "y = [p(t) for t in x] # Pression\n",
    "draw(x, 't [s]', y, 'p(t) [Pa]')"
   ]
  },
  {
   "cell_type": "markdown",
   "metadata": {
    "hideCode": false,
    "hideOutput": false,
    "hidePrompt": false,
    "slideshow": {
     "slide_type": "slide"
    }
   },
   "source": [
    "# 1. Calcul du niveau de pression\n",
    "## Pression acoustique efficace\n",
    "$$p_e^2=\\frac{1}{T}\\int_0^T p^2(t) {\\rm d}t$$"
   ]
  },
  {
   "cell_type": "markdown",
   "metadata": {
    "hideCode": false,
    "hidePrompt": false,
    "slideshow": {
     "slide_type": "fragment"
    }
   },
   "source": [
    "Pour tout $t$, $p^2(t)=4$ donc $p_e=2$ Pa."
   ]
  },
  {
   "cell_type": "markdown",
   "metadata": {
    "hideCode": false,
    "hidePrompt": false,
    "slideshow": {
     "slide_type": "fragment"
    }
   },
   "source": [
    "## Niveau de pression\n",
    "$$L_p=10\\log\\left(\\frac{p_e^2}{p_0^2}\\right)=10\\log\\left(\\frac{2^2}{\\left(2\\times10^{-5}\\right)^2}\\right)=100\\textrm{ dB}$$"
   ]
  },
  {
   "cell_type": "markdown",
   "metadata": {
    "hideCode": false,
    "hidePrompt": false,
    "slideshow": {
     "slide_type": "slide"
    }
   },
   "source": [
    "# 2. Spectre\n",
    "## Série de Fourier d'une fonction $T$-périodique\n",
    "$$f(x)=a_{0}+\\sum _{n=1}^{\\infty}\\left(a_{n}\\cos\\left(nx{\\frac {2\\pi }{T}}\\right)+b_{n}\\sin\\left(nx{\\frac {2\\pi }{T}}\\right)\\right)$$\n",
    "$$a_{0}={\\frac{1}{T}}\\int_{-T/2}^{T/2}f(t)\\,\\mathrm{d}t$$\n",
    "Pour $n>0$ :\n",
    "$$a_{n}={\\frac{2}{T}}\\int_{-T/2}^{T/2}f(t)\\cos\\left(nt{\\frac{2\\pi }{T}}\\right)\\,\\mathrm{d}t$$\n",
    "\n",
    "$$b_{n}={\\frac{2}{T}}\\int_{-T/2}^{T/2}f(t)\\sin\\left(nt{\\frac{2\\pi }{T}}\\right)\\,\\mathrm{d}t$$"
   ]
  },
  {
   "cell_type": "markdown",
   "metadata": {
    "hideCode": false,
    "hidePrompt": false,
    "slideshow": {
     "slide_type": "subslide"
    }
   },
   "source": [
    "## Calcul des coefficients\n",
    "\n",
    "Pour tout $n$, $a_n = 0$ ($\\,p$ fonction impaire).\n",
    "\n",
    "$$b_{n}={\\frac{2}{T}}\\int_{-T/2}^{T/2}p(t)\\sin \\left(nt{\\frac {2\\pi }{T}}\\right)\\,\\mathrm{d}t$$"
   ]
  },
  {
   "cell_type": "markdown",
   "metadata": {
    "hideCode": false,
    "hidePrompt": false,
    "slideshow": {
     "slide_type": "fragment"
    }
   },
   "source": [
    "$$b_{n}={\\frac{4}{T}}\\left(\\int_{0}^{T/2}\\sin\\left(nt{\\frac {2\\pi }{T}}\\right)\\,\\mathrm{d}t-\\int_{-T/2}^{0}\\sin\\left(nt{\\frac{2\\pi }{T}}\\right)\\,\\mathrm {d}t\\right)$$"
   ]
  },
  {
   "cell_type": "markdown",
   "metadata": {
    "hideCode": false,
    "hidePrompt": false,
    "slideshow": {
     "slide_type": "fragment"
    }
   },
   "source": [
    "$$b_{n}={\\frac{2}{n\\pi}}\\left(\\left[-\\cos\\left(nt{\\frac{2\\pi}{T}}\\right)\\right]_{0}^{T/2}-\\left[-\\cos\\left(nt{\\frac{2\\pi}{T}}\\right)\\right]_{-T/2}^{0}\\right)$$"
   ]
  },
  {
   "cell_type": "markdown",
   "metadata": {
    "hideCode": false,
    "hidePrompt": false,
    "slideshow": {
     "slide_type": "fragment"
    }
   },
   "source": [
    "$$b_{n}={\\frac{4}{n\\pi}}\\left(1-\\cos(n\\pi)\\right)$$"
   ]
  },
  {
   "cell_type": "markdown",
   "metadata": {
    "hideCode": false,
    "hidePrompt": false,
    "slideshow": {
     "slide_type": "subslide"
    }
   },
   "source": [
    "$$b_n = \\frac{8}{n\\pi}\\textrm{ pour }n =1,\\ 3,\\ 5,\\ 7\\textrm{ et }b_n=0\\textrm{ pour }n =2,\\ 4,\\ 6$$"
   ]
  },
  {
   "cell_type": "code",
   "execution_count": null,
   "metadata": {
    "hideCode": true,
    "hidePrompt": true,
    "slideshow": {
     "slide_type": "-"
    }
   },
   "outputs": [],
   "source": [
    "X = [n/T for n in range(1, 8, 2)] # Fréquences\n",
    "Y = [8/(n*pi) for n in range(1, 8, 2)] # Coefficients\n",
    "draw(X, 'f [Hz]', Y, r'$b_n$ [Pa]', diagram = plt.scatter)"
   ]
  },
  {
   "cell_type": "markdown",
   "metadata": {
    "hideCode": false,
    "hidePrompt": false,
    "slideshow": {
     "slide_type": "subslide"
    }
   },
   "source": [
    "## Somme partielle\n",
    "$$p_n(t)=\\frac{8}{n\\pi}\\sin\\left(nt{\\frac{2\\pi }{T}}\\right)\\textrm{ pour }n\\textrm{ impair},\\ p_n(t)=0\\textrm{ pour }n\\textrm{ pair}$$\n",
    "$$p(t)\\approx\\sum _{n=1}^{4}p_{2n-1}$$"
   ]
  },
  {
   "cell_type": "code",
   "execution_count": null,
   "metadata": {
    "hideCode": true,
    "hideOutput": false,
    "hidePrompt": true,
    "slideshow": {
     "slide_type": "-"
    }
   },
   "outputs": [],
   "source": [
    "# Pression acoustique instantanée de la n-ème harmonique\n",
    "def pn(n, t):\n",
    "    return 8*sin(n*t*2*pi/T)/(n*pi)\n",
    "\n",
    "# Somme partielle\n",
    "def pa(N, t):\n",
    "    return sum([pn(2*n-1, remainder(t, T)) for n in range(1, N+1)])\n",
    "\n",
    "# Note : le recours à remainder permet d'accélerer le calcul en augmentant\n",
    "# l'utilisation de la mémoire cache\n",
    "\n",
    "def plot(N):\n",
    "    z = [pa(N, t) for t in x]\n",
    "    plt.figure(figsize=(12, 6))\n",
    "    plt.xlabel('t [s]')\n",
    "    plt.ylabel('p(t) [Pa]')\n",
    "    plt.ylim([-3,3])\n",
    "    plt.grid(alpha =.6, linestyle =':')\n",
    "    plt.plot(x, y,  x, z)\n",
    "    plt.show()\n",
    "    return N\n",
    "\n",
    "interactive(plot, N = IntSlider(min = 1, max = 25, value = 1))"
   ]
  },
  {
   "cell_type": "markdown",
   "metadata": {
    "hideCode": false,
    "hidePrompt": false,
    "slideshow": {
     "slide_type": "slide"
    }
   },
   "source": [
    "# 3. Spectre en bandes d'octave\n",
    "## Bandes d'octave\n",
    "$$\\left[\\frac{f_m}{\\sqrt{2}},\\ f_m\\sqrt{2}\\right]\\textrm{ avec }f_m\\textrm{ fréquence médiane}$$"
   ]
  },
  {
   "cell_type": "code",
   "execution_count": null,
   "metadata": {
    "hideCode": true,
    "hidePrompt": true,
    "slideshow": {
     "slide_type": "-"
    }
   },
   "outputs": [],
   "source": [
    "fm = [125*2**n for n in range(6)]\n",
    "fa = [f/sqrt(2) for f in fm]\n",
    "fb = [f*sqrt(2) for f in fm]\n",
    "fc = [90, 180, 350, 700, 1400, 2800]\n",
    "fd = [180, 350, 700, 1400, 2800, 5600]\n",
    "for m, a, b, c, d in zip(fm, fa, fb, fc, fd):\n",
    "    print(f\"{m:-4g} Hz : [{a:-6.1f}, {b:-6.1f}] -> [{c:-4g}, {d:-4g}]\")"
   ]
  },
  {
   "cell_type": "markdown",
   "metadata": {
    "hideCode": false,
    "hidePrompt": false,
    "slideshow": {
     "slide_type": "subslide"
    }
   },
   "source": [
    "## Pression acoustique efficace des harmoniques ($n$ impair)\n",
    "$$p_{e,n}^2=\\frac{1}{T}\\int_0^T p_n^2(t) {\\rm d}t$$"
   ]
  },
  {
   "cell_type": "markdown",
   "metadata": {
    "hideCode": false,
    "hidePrompt": false,
    "slideshow": {
     "slide_type": "fragment"
    }
   },
   "source": [
    "$$p_{e,n}^2=\\frac{1}{T}\\left(\\frac{8}{n\\pi}\\right)^2\\int_0^T\\sin^2\\left(nt{\\frac{2\\pi}{T}}\\right) {\\rm d}t$$"
   ]
  },
  {
   "cell_type": "markdown",
   "metadata": {
    "hideCode": false,
    "hidePrompt": false,
    "slideshow": {
     "slide_type": "fragment"
    }
   },
   "source": [
    "$$p_{e,n}^2=\\frac{1}{2T}\\left(\\frac{8}{n\\pi}\\right)^2\\int_0^T\\left(1-\\cos\\left(nt{\\frac{4\\pi}{T}}\\right)\\right){\\rm d}t$$"
   ]
  },
  {
   "cell_type": "markdown",
   "metadata": {
    "hideCode": false,
    "hidePrompt": false,
    "slideshow": {
     "slide_type": "fragment"
    }
   },
   "source": [
    "$$p_{e,n}^2=\\frac{1}{2}\\left(\\frac{8}{n\\pi}\\right)^2$$"
   ]
  },
  {
   "cell_type": "markdown",
   "metadata": {
    "hideCode": false,
    "hidePrompt": false,
    "slideshow": {
     "slide_type": "subslide"
    }
   },
   "source": [
    "## Niveaux de pression par harmonique\n",
    "\n",
    "$$L_n=10\\log\\left(\\frac{p_{e,n}^2}{p_0^2}\\right)$$"
   ]
  },
  {
   "cell_type": "code",
   "execution_count": null,
   "metadata": {
    "hideCode": true,
    "hidePrompt": true,
    "slideshow": {
     "slide_type": "-"
    }
   },
   "outputs": [],
   "source": [
    "p0 = 2e-5 # Pression de référence\n",
    "L = [10*log10(.5*(8/(n*pi))**2/p0**2) for n in range(1, 8, 2)] # Niveaux de pression\n",
    "draw(X, 'f [Hz]', L, 'L [dB]', diagram = plt.scatter)"
   ]
  },
  {
   "cell_type": "markdown",
   "metadata": {
    "hideCode": false,
    "hidePrompt": false,
    "slideshow": {
     "slide_type": "subslide"
    }
   },
   "source": [
    "## Niveaux de pression par octave\n",
    "$$L(125)=L_1,\\ L(250)=L_3,\\ L(500)=L_5\\oplus L_7=10\\log\\left(10^\\frac{L_5}{10}+10^\\frac{L_7}{10}\\right)$$"
   ]
  },
  {
   "cell_type": "code",
   "execution_count": null,
   "metadata": {
    "hideCode": true,
    "hideOutput": false,
    "hidePrompt": true,
    "slideshow": {
     "slide_type": "-"
    }
   },
   "outputs": [],
   "source": [
    "# Somme logarithmique\n",
    "def lsum(*L):\n",
    "    return 10*log10(sum([10**(l/10) for l in L]))\n",
    "\n",
    "print(f\"L(125) = {L[0]:4.1f} dB\")\n",
    "print(f\"L(250) = {L[1]:4.1f} dB\")\n",
    "print(f\"L(500) = {lsum(L[2],L[3]):4.1f} dB\")"
   ]
  }
 ],
 "metadata": {
  "celltoolbar": "Initialization Cell",
  "hide_code_all_hidden": true,
  "kernelspec": {
   "display_name": "Python 3",
   "language": "python",
   "name": "python3"
  },
  "language_info": {
   "codemirror_mode": {
    "name": "ipython",
    "version": 3
   },
   "file_extension": ".py",
   "mimetype": "text/x-python",
   "name": "python",
   "nbconvert_exporter": "python",
   "pygments_lexer": "ipython3",
   "version": "3.8.5"
  }
 },
 "nbformat": 4,
 "nbformat_minor": 4
}
