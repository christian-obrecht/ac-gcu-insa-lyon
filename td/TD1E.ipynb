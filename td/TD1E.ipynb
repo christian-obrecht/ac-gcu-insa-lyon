{
 "cells": [
  {
   "cell_type": "markdown",
   "metadata": {
    "hideCode": true,
    "hidePrompt": true,
    "slideshow": {
     "slide_type": "slide"
    }
   },
   "source": [
    "# TD1 - Exercice 5\n",
    "\n",
    "La signature acoustique d’un train est donnée par la figure ci-dessous.\n",
    "\n",
    "1. Quel est le niveau équivalent $L_{eq}$ de ce signal pour une durée d’observation de 40 s (temps de passage du train) ?\n",
    "2. Quel est le niveau équivalent sur une heure $L'_{eq}$ pour le passage d’un seul convoi ?\n",
    "3. Même question s’il y a dix passages de trains dans l’heure."
   ]
  },
  {
   "cell_type": "code",
   "execution_count": 1,
   "metadata": {
    "hideCode": true,
    "hideOutput": false,
    "hidePrompt": true,
    "init_cell": true,
    "slideshow": {
     "slide_type": "skip"
    }
   },
   "outputs": [],
   "source": [
    "\"\"\"\n",
    "INSA Lyon - Département Génie Civil et Urbanisme\n",
    "Travaux dirigés d'acoustique du bâtiment\n",
    "\n",
    "Copyright © 2021 Christian Obrecht <christian.obrecht@insa-lyon.fr>\n",
    "\n",
    "Ce document est distribué sous licence Creative Commons CC-BY-NC-SA\n",
    "\"\"\"\n",
    "\n",
    "from math import log, log10\n",
    "from numpy import linspace\n",
    "import matplotlib.pyplot as plt\n",
    "\n",
    "# Représentation graphique\n",
    "def draw(x, lx, y, ly, size = (12, 4), diagram = plt.plot):\n",
    "    plt.figure(figsize = size)\n",
    "    plt.xlabel(lx)\n",
    "    plt.ylabel(ly)\n",
    "    plt.grid(alpha =.6, linestyle =':')\n",
    "    diagram(x, y)\n",
    "    plt.show()"
   ]
  },
  {
   "cell_type": "code",
   "execution_count": 2,
   "metadata": {
    "hideCode": true,
    "hideOutput": false,
    "hidePrompt": true,
    "init_cell": true,
    "slideshow": {
     "slide_type": "-"
    }
   },
   "outputs": [
    {
     "data": {
      "image/png": "[encoded data removed]",
      "text/plain": [
       "<Figure size 864x288 with 1 Axes>"
      ]
     },
     "metadata": {
      "needs_background": "light"
     },
     "output_type": "display_data"
    }
   ],
   "source": [
    "# Signature acoustique\n",
    "def L(t):\n",
    "    if t >= 30 and t < 40:\n",
    "        return 60 + 3*(t - 30)\n",
    "    if t >= 40 and t < 60:\n",
    "        return 90\n",
    "    if t >= 60 and t < 70:\n",
    "        return 90 + 3*(60 - t)\n",
    "    return 60\n",
    "\n",
    "x = linspace(0, 110, 500) # Temps\n",
    "y = [L(t) for t in x] # Pression\n",
    "draw(x, 't [s]', y, 'L(t) [dB(A)]')"
   ]
  },
  {
   "cell_type": "markdown",
   "metadata": {
    "hideCode": true,
    "hideOutput": false,
    "hidePrompt": true,
    "slideshow": {
     "slide_type": "subslide"
    }
   },
   "source": [
    "# 1. Niveau équivalent pour 40 s\n",
    "$$L_{eq}=10\\log\\left(\\frac{1}{T}\\int_0^T 10^\\frac{L(t)}{10}{\\rm d}t\\right)$$"
   ]
  },
  {
   "cell_type": "markdown",
   "metadata": {
    "hideCode": true,
    "hidePrompt": true,
    "slideshow": {
     "slide_type": "fragment"
    }
   },
   "source": [
    "$$L_{eq}=10\\log\\left(\\frac{I_1+I_2+I_3}{40}\\right)\\textrm{ avec }\n",
    "I_1 = \\int_{30}^{40} 10^\\frac{L(t)}{10}{\\rm d}t,\\ \n",
    "I_2 = \\int_{40}^{60} 10^\\frac{L(t)}{10}{\\rm d}t,\\ \n",
    "I_3 = \\int_{60}^{70} 10^\\frac{L(t)}{10}{\\rm d}t$$"
   ]
  },
  {
   "cell_type": "markdown",
   "metadata": {
    "hideCode": true,
    "hidePrompt": true,
    "slideshow": {
     "slide_type": "fragment"
    }
   },
   "source": [
    "$$I_1 = I_3 = \\int_{0}^{10} 10^\\frac{60+3t}{10}{\\rm d}t$$"
   ]
  },
  {
   "cell_type": "markdown",
   "metadata": {
    "hideCode": true,
    "hidePrompt": true,
    "slideshow": {
     "slide_type": "fragment"
    }
   },
   "source": [
    "$$=10^6\\int_0^{10} \\exp\\left(\\frac{3\\ln10}{10}t\\right){\\rm d}t$$"
   ]
  },
  {
   "cell_type": "markdown",
   "metadata": {
    "hideCode": true,
    "hidePrompt": true,
    "slideshow": {
     "slide_type": "fragment"
    }
   },
   "source": [
    "$$=\\frac{10^7}{3\\ln10}\\left[\\exp\\left(\\frac{3\\ln10}{10}t\\right)\\right]_0^{10}=\\frac{333\\times10^7}{\\ln10}$$"
   ]
  },
  {
   "cell_type": "markdown",
   "metadata": {
    "hideCode": true,
    "hidePrompt": true,
    "slideshow": {
     "slide_type": "subslide"
    }
   },
   "source": [
    "$$I_2 = \\int_{0}^{20} 10^9{\\rm d}t = 2\\times10^{10}$$"
   ]
  },
  {
   "cell_type": "markdown",
   "metadata": {
    "hideCode": true,
    "hidePrompt": true,
    "slideshow": {
     "slide_type": "fragment"
    }
   },
   "source": [
    "$$L_{eq} = 10\\log\\left(\\frac{I_1+I_2+I_3}{40}\\right)$$"
   ]
  },
  {
   "cell_type": "code",
   "execution_count": 3,
   "metadata": {
    "hideCode": true,
    "hidePrompt": true,
    "slideshow": {
     "slide_type": "-"
    }
   },
   "outputs": [
    {
     "name": "stdout",
     "output_type": "stream",
     "text": [
      "Leq = 87.6 dB\n"
     ]
    }
   ],
   "source": [
    "I1 = 333e7/log(10)\n",
    "I2 = 2e10\n",
    "Leq = 10*log10((2*I1+I2)/40)\n",
    "print(f\"Leq = {Leq:.1f} dB\")"
   ]
  },
  {
   "cell_type": "markdown",
   "metadata": {
    "hideCode": true,
    "hidePrompt": true,
    "slideshow": {
     "slide_type": "subslide"
    }
   },
   "source": [
    "# 2. Niveau équivalent pour 1 h\n",
    "$$L_{eq}=10\\log\\left(\\frac{1}{T}\\int_0^T 10^\\frac{L(t)}{10}{\\rm d}t\\right)$$"
   ]
  },
  {
   "cell_type": "markdown",
   "metadata": {
    "hideCode": true,
    "hidePrompt": true,
    "slideshow": {
     "slide_type": "fragment"
    }
   },
   "source": [
    "$$L'_{eq}=10\\log\\left[\\frac{1}{3600}\\left(I_1+I_2+I_3+3560\\times10^\\frac{60}{10}\\right)\\right]$$"
   ]
  },
  {
   "cell_type": "code",
   "execution_count": 4,
   "metadata": {
    "hideCode": true,
    "hidePrompt": true,
    "slideshow": {
     "slide_type": "-"
    }
   },
   "outputs": [
    {
     "name": "stdout",
     "output_type": "stream",
     "text": [
      "L'eq = 68.7 dB\n"
     ]
    }
   ],
   "source": [
    "Leq1 = 10*log10((2*I1+I2+3560e6)/3600)\n",
    "print(f\"L'eq = {Leq1:.1f} dB\")"
   ]
  },
  {
   "cell_type": "markdown",
   "metadata": {
    "hideCode": true,
    "hidePrompt": true,
    "slideshow": {
     "slide_type": "subslide"
    }
   },
   "source": [
    "# 3. Niveau équivalent pour 10 passages"
   ]
  },
  {
   "cell_type": "markdown",
   "metadata": {
    "hideCode": true,
    "hidePrompt": true,
    "slideshow": {
     "slide_type": "fragment"
    }
   },
   "source": [
    "$$L''_{eq}=10\\log\\left[\\frac{1}{3600}\\left(10(I_1+I_2+I_3)+3200\\times10^\\frac{60}{10}\\right)\\right]$$"
   ]
  },
  {
   "cell_type": "code",
   "execution_count": 5,
   "metadata": {
    "hideCode": true,
    "hidePrompt": true,
    "slideshow": {
     "slide_type": "-"
    }
   },
   "outputs": [
    {
     "name": "stdout",
     "output_type": "stream",
     "text": [
      "L\"eq = 78.1 dB\n"
     ]
    }
   ],
   "source": [
    "Leq10 = 10*log10((20*I1+10*I2+3200e6)/3600)\n",
    "print(f'L\"eq = {Leq10:.1f} dB')"
   ]
  }
 ],
 "metadata": {
  "celltoolbar": "Hide code",
  "hide_code_all_hidden": true,
  "kernelspec": {
   "display_name": "Python 3",
   "language": "python",
   "name": "python3"
  },
  "language_info": {
   "codemirror_mode": {
    "name": "ipython",
    "version": 3
   },
   "file_extension": ".py",
   "mimetype": "text/x-python",
   "name": "python",
   "nbconvert_exporter": "python",
   "pygments_lexer": "ipython3",
   "version": "3.8.5"
  }
 },
 "nbformat": 4,
 "nbformat_minor": 4
}
