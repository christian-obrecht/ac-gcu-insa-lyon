{
 "cells": [
  {
   "cell_type": "markdown",
   "metadata": {
    "slideshow": {
     "slide_type": "slide"
    }
   },
   "source": [
    "# TD3 - Exercice 2\n",
    "## 1. Temps de réverbération\n",
    "Formule de Sabine :\n",
    "$$\\textrm{Tr}=\\frac{0{,}163V}{A}$$\n",
    "Aire équivalente d’absorption :\n",
    "$$A=\\sum_{i=1}^{N}S_i\\alpha_i=S\\bar{\\alpha}$$"
   ]
  },
  {
   "cell_type": "code",
   "execution_count": 23,
   "metadata": {
    "hideCode": true,
    "hidePrompt": true,
    "slideshow": {
     "slide_type": "skip"
    }
   },
   "outputs": [],
   "source": [
    "\"\"\"\n",
    "INSA Lyon - Département Génie Civil et Urbanisme\n",
    "Travaux dirigés d'acoustique du bâtiment\n",
    "\n",
    "Copyright © 2021 Christian Obrecht <christian.obrecht@insa-lyon.fr>\n",
    "\n",
    "Ce document est distribué sous licence Creative Commons CC-BY-NC-SA\n",
    "\"\"\"\n",
    "\n",
    "from math import log10\n",
    "from pandas import DataFrame, set_option\n",
    "\n",
    "# Somme logarithmique d'une liste\n",
    "def lsum(L):\n",
    "    return 10*log10(sum([10**(l/10) for l in L]))\n",
    "\n",
    "# Présentation sous la forme d'un tableau\n",
    "def table(d):\n",
    "    display(DataFrame(d).set_index(list(d.keys())[0]).T)\n",
    "\n",
    "set_option(\"display.precision\", 2)"
   ]
  },
  {
   "cell_type": "code",
   "execution_count": 24,
   "metadata": {
    "hidePrompt": true,
    "slideshow": {
     "slide_type": "fragment"
    }
   },
   "outputs": [
    {
     "data": {
      "text/html": [
       "<div>\n",
       "<style scoped>\n",
       "    .dataframe tbody tr th:only-of-type {\n",
       "        vertical-align: middle;\n",
       "    }\n",
       "\n",
       "    .dataframe tbody tr th {\n",
       "        vertical-align: top;\n",
       "    }\n",
       "\n",
       "    .dataframe thead th {\n",
       "        text-align: right;\n",
       "    }\n",
       "</style>\n",
       "<table border=\"1\" class=\"dataframe\">\n",
       "  <thead>\n",
       "    <tr style=\"text-align: right;\">\n",
       "      <th>Fréquence [Hz]</th>\n",
       "      <th>125</th>\n",
       "      <th>250</th>\n",
       "      <th>500</th>\n",
       "      <th>1000</th>\n",
       "      <th>2000</th>\n",
       "      <th>4000</th>\n",
       "    </tr>\n",
       "  </thead>\n",
       "  <tbody>\n",
       "    <tr>\n",
       "      <th>Tr [s]</th>\n",
       "      <td>1.26</td>\n",
       "      <td>1.01</td>\n",
       "      <td>1.07</td>\n",
       "      <td>0.97</td>\n",
       "      <td>0.92</td>\n",
       "      <td>0.87</td>\n",
       "    </tr>\n",
       "  </tbody>\n",
       "</table>\n",
       "</div>"
      ],
      "text/plain": [
       "Fréquence [Hz]  125   250   500   1000  2000  4000\n",
       "Tr [s]          1.26  1.01  1.07  0.97  0.92  0.87"
      ]
     },
     "metadata": {},
     "output_type": "display_data"
    }
   ],
   "source": [
    "F = [125, 250, 500, 1000, 2000, 4000]\n",
    "\n",
    "M = [[0.04, 0.04, 0.09, 0.15, 0.25, 0.32], # Moquette\n",
    "     [0.14, 0.23, 0.35, 0.39, 0.37, 0.38], # Fauteuils\n",
    "     [0.15, 0.11, 0.10, 0.07, 0.06, 0.06], # Sol\n",
    "     [0.25, 0.22, 0.04, 0.03, 0.03, 0.03], # Panneaux fléchissants\n",
    "     [0.15, 0.30, 0.35, 0.40, 0.40, 0.40]] # Faux plafond\n",
    "\n",
    "V = 600\n",
    "S = [74, 50, 100, 120, 150]\n",
    "\n",
    "A = [sum(Si*αi for Si, αi in zip(S, α)) for α in zip(*M)]\n",
    "\n",
    "Tr = [0.163*V/a for a in A]\n",
    "\n",
    "table({'Fréquence [Hz]': F, 'Tr [s]': Tr})"
   ]
  },
  {
   "cell_type": "markdown",
   "metadata": {
    "slideshow": {
     "slide_type": "subslide"
    }
   },
   "source": [
    "## 2. Niveau global dans le champ réverbéré\n",
    "Niveau sonore en espace clos :\n",
    "$$L=L_W+10\\log\\left(\\frac{Q}{4\\pi r^2}+\\frac{4}{\\textrm{CL}}\\right)$$\n",
    "\n",
    "Constante du local :\n",
    "$$\\textrm{CL}=\\frac{S\\bar{\\alpha}}{1-\\bar{\\alpha}}=\\frac{A}{1-A/S}$$"
   ]
  },
  {
   "cell_type": "markdown",
   "metadata": {
    "slideshow": {
     "slide_type": "subslide"
    }
   },
   "source": [
    "Niveau dans le champ réverbéré :\n",
    "$$L=L_W+10\\log\\frac{4}{\\textrm{CL}}$$"
   ]
  },
  {
   "cell_type": "code",
   "execution_count": 31,
   "metadata": {
    "hidePrompt": true,
    "slideshow": {
     "slide_type": "fragment"
    }
   },
   "outputs": [
    {
     "name": "stdout",
     "output_type": "stream",
     "text": [
      "Niveau global : 77.9 dB(A)\n"
     ]
    }
   ],
   "source": [
    "Lw = [85, 90, 92, 87, 83, 80]\n",
    "Σ = 500\n",
    "\n",
    "CL = [a/(1-a/Σ) for a in A]\n",
    "L = [lw + 10*log10(4/cl) for lw, cl in zip(Lw, CL)]\n",
    "\n",
    "P = [0, -1.6, -4.7, -6.0, -8.2, -13.7]\n",
    "Lp = lsum(l + p for l, p in zip(L, P))\n",
    "\n",
    "print(f'Niveau global : {Lp:.1f} dB(A)')"
   ]
  }
 ],
 "metadata": {
  "celltoolbar": "Aucun(e)",
  "kernelspec": {
   "display_name": "Python 3",
   "language": "python",
   "name": "python3"
  },
  "language_info": {
   "codemirror_mode": {
    "name": "ipython",
    "version": 3
   },
   "file_extension": ".py",
   "mimetype": "text/x-python",
   "name": "python",
   "nbconvert_exporter": "python",
   "pygments_lexer": "ipython3",
   "version": "3.8.5"
  }
 },
 "nbformat": 4,
 "nbformat_minor": 4
}
