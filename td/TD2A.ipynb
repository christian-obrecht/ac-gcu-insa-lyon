{
 "cells": [
  {
   "cell_type": "code",
   "execution_count": null,
   "metadata": {
    "hideCode": true,
    "hidePrompt": true,
    "slideshow": {
     "slide_type": "skip"
    }
   },
   "outputs": [],
   "source": [
    "\"\"\"\n",
    "INSA Lyon - Département Génie Civil et Urbanisme\n",
    "Travaux dirigés d'acoustique du bâtiment\n",
    "\n",
    "Copyright © 2021 Christian Obrecht <christian.obrecht@insa-lyon.fr>\n",
    "\n",
    "Ce document est distribué sous licence Creative Commons CC-BY-NC-SA\n",
    "\"\"\""
   ]
  },
  {
   "cell_type": "markdown",
   "metadata": {
    "hideCode": false,
    "hidePrompt": false,
    "slideshow": {
     "slide_type": "slide"
    }
   },
   "source": [
    "# TD2 - Exercice 1\n",
    "## 1. Écran masquant complètement la ligne source\n",
    "Atténuation globale pour une ligne source découpée en $n$ tronçons :\n",
    "$$\\Delta L = 10\\log n - 10\\log\\left(\\sum_{i=1}^n 10^{-\\frac{\\Delta L_i}{10}}\\right)$$\n",
    "\n",
    "avec :\n",
    "$$\\Delta L_i \\approx 13 + 10\\log N_i$$\n",
    "\n",
    "d'après l'approximation de Maekawa, où $N_i$ est le nombre de Fresnel du tronçon $i$ pour la longueur d'onde $\\lambda$ :\n",
    "\n",
    "$$N_i = \\frac{2(a_i+b_i-d_i)}{\\lambda}$$"
   ]
  },
  {
   "cell_type": "code",
   "execution_count": 30,
   "metadata": {
    "hideCode": false,
    "hidePrompt": true,
    "slideshow": {
     "slide_type": "subslide"
    }
   },
   "outputs": [
    {
     "name": "stdout",
     "output_type": "stream",
     "text": [
      "Atténuation globale : ΔL = 15.96 dB\n"
     ]
    }
   ],
   "source": [
    "from math import radians as rad, sqrt, cos, log10\n",
    "from numpy import linspace\n",
    "\n",
    "l1 = 10\n",
    "l2 = 50\n",
    "h = 4\n",
    "z = 4\n",
    "\n",
    "n = 5\n",
    "f = 600\n",
    "\n",
    "c = 340\n",
    "λ = c/f\n",
    "\n",
    "def a(θ): return sqrt((l1/cos(θ))**2 + h**2)\n",
    "\n",
    "def b(θ): return sqrt((l2/cos(θ))**2 + (z - h)**2)\n",
    "\n",
    "def d(θ): return sqrt(((l1 + l2)/cos(θ))**2 + z**2)\n",
    "\n",
    "def N(θ): return 2*(a(θ) + b(θ) - d(θ))/λ\n",
    "\n",
    "def ΔL(θ): return 13 + 10*log10(N(θ))\n",
    "\n",
    "ΔLg = 10*log10(n) - 10*log10(sum(10**(-ΔL(θ)/10) for θ in linspace(rad(-40), rad(40), n)))\n",
    "\n",
    "print(f\"Atténuation globale : ΔL = {ΔLg:.2f} dB\")"
   ]
  },
  {
   "cell_type": "markdown",
   "metadata": {
    "hideCode": false,
    "hidePrompt": false,
    "slideshow": {
     "slide_type": "subslide"
    }
   },
   "source": [
    "## 2. Écran masquant partiellement la ligne source\n",
    "Atténuation globale pour une ligne source découpée en $n+m$ tronçons dont $n$ masqués :\n",
    "$$\\Delta L = 10\\log(n + m) - 10\\log\\left(m + \\sum_{i=1}^n 10^{-\\frac{\\Delta L_i}{10}}\\right)$$"
   ]
  },
  {
   "cell_type": "code",
   "execution_count": 31,
   "metadata": {
    "hideCode": false,
    "hidePrompt": true,
    "slideshow": {
     "slide_type": "fragment"
    }
   },
   "outputs": [
    {
     "name": "stdout",
     "output_type": "stream",
     "text": [
      "Atténuation globale : ΔL = 3.83 dB\n"
     ]
    }
   ],
   "source": [
    "n = 3\n",
    "m = 2\n",
    "\n",
    "ΔLg = 10*log10(n + m) - 10*log10(m + sum(10**(-ΔL(θ)/10) for θ in linspace(rad(-20), rad(20), n)))\n",
    "\n",
    "print(f\"Atténuation globale : ΔL = {ΔLg:.2f} dB\")"
   ]
  }
 ],
 "metadata": {
  "celltoolbar": "Aucun(e)",
  "hide_code_all_hidden": false,
  "kernelspec": {
   "display_name": "Python 3",
   "language": "python",
   "name": "python3"
  },
  "language_info": {
   "codemirror_mode": {
    "name": "ipython",
    "version": 3
   },
   "file_extension": ".py",
   "mimetype": "text/x-python",
   "name": "python",
   "nbconvert_exporter": "python",
   "pygments_lexer": "ipython3",
   "version": "3.8.5"
  }
 },
 "nbformat": 4,
 "nbformat_minor": 4
}
