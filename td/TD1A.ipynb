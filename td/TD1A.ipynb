{
 "cells": [
  {
   "cell_type": "markdown",
   "metadata": {
    "hideCode": true,
    "hidePrompt": true,
    "slideshow": {
     "slide_type": "slide"
    }
   },
   "source": [
    "# TD1 - Exercice 1\n",
    "Soit un signal sonore périodique dont la pression acoustique instantanée est donnée sur la figure ci-dessous.\n",
    "\n",
    "1. À partir du calcul de la pression acoustique efficace, déterminer le niveau de pression.\n",
    "2. Tracer le spectre de la pression acoustique pour des fréquences allant jusqu’à 700 Hz.\n",
    "3. Donner le spectre en bandes d’octave de ce son."
   ]
  },
  {
   "cell_type": "code",
   "execution_count": 1,
   "metadata": {
    "hideCode": true,
    "hideOutput": false,
    "hidePrompt": true,
    "slideshow": {
     "slide_type": "skip"
    }
   },
   "outputs": [
    {
     "data": {
      "image/png": "[encoded data removed]",
      "text/plain": [
       "<Figure size 864x432 with 1 Axes>"
      ]
     },
     "metadata": {
      "needs_background": "light"
     },
     "output_type": "display_data"
    },
    {
     "data": {
      "application/vnd.jupyter.widget-view+json": {
       "model_id": "314c3628557c4e288bbfa574d9191de9",
       "version_major": 2,
       "version_minor": 0
      },
      "text/plain": [
       "Button(description='Écouter', style=ButtonStyle())"
      ]
     },
     "metadata": {},
     "output_type": "display_data"
    }
   ],
   "source": [
    "\"\"\"\n",
    "INSA Lyon - Département Génie Civil et Urbanisme\n",
    "Travaux dirigés d'acoustique du bâtiment\n",
    "\n",
    "Copyright © 2021 Christian Obrecht <christian.obrecht@insa-lyon.fr>\n",
    "\n",
    "Ce document est distribué sous licence Creative Commons CC-BY-NC-SA\n",
    "\"\"\"\n",
    "\n",
    "from math import remainder, log10, pi, sin, sqrt\n",
    "from numpy import linspace, array, int16\n",
    "from simpleaudio import WaveObject\n",
    "from ipywidgets import interactive, HBox, VBox, Button, IntSlider\n",
    "import matplotlib.pyplot as plt\n",
    "\n",
    "# Représentation graphique\n",
    "def draw(x, lx, y, ly, size = (12, 6), diagram = plt.plot):\n",
    "    plt.figure(figsize = size)\n",
    "    plt.xlabel(lx)\n",
    "    plt.ylabel(ly)\n",
    "    plt.grid(alpha =.6, linestyle =':')\n",
    "    diagram(x, y)\n",
    "    plt.show()\n",
    "    \n",
    "# Rendu sonore\n",
    "def play(p, duration):\n",
    "    rate = 44100\n",
    "    sampling = linspace(0, duration, duration*rate)\n",
    "    # Conversion du signal en entiers signés 16 bits avec normalisation\n",
    "    # par l'amplitude maximale de la première harmonique\n",
    "    audio = array([p(t)*0x7FFF*pi/8 for t in sampling]).astype(int16)\n",
    "    wave = WaveObject(audio, 1, 2, rate)\n",
    "    wave.play()\n",
    "\n",
    "T = 0.01 # Période\n",
    "\n",
    "# Pression acoustique instantanée\n",
    "def p(t):\n",
    "    return 2 if remainder(t, T) > 0 else -2\n",
    "\n",
    "x = linspace(0, 0.026, 500) # Temps\n",
    "y = [p(t) for t in x] # Pression\n",
    "draw(x, 't [s]', y, 'p(t) [Pa]')\n",
    "\n",
    "def play_original(_):\n",
    "    play(p, 2)\n",
    "\n",
    "button = Button(description = 'Écouter')\n",
    "button.on_click(play_original)\n",
    "button"
   ]
  },
  {
   "cell_type": "markdown",
   "metadata": {
    "hideCode": true,
    "hideOutput": false,
    "hidePrompt": true,
    "slideshow": {
     "slide_type": "slide"
    }
   },
   "source": [
    "# 1. Calcul du niveau de pression\n",
    "## Pression acoustique efficace\n",
    "$$p_e^2=\\frac{1}{T}\\int_0^T p^2(t) {\\rm d}t$$"
   ]
  },
  {
   "cell_type": "markdown",
   "metadata": {
    "hideCode": true,
    "hidePrompt": true,
    "slideshow": {
     "slide_type": "fragment"
    }
   },
   "source": [
    "Pour tout $t$, $p^2(t)=4$ donc $p_e=2$ Pa."
   ]
  },
  {
   "cell_type": "markdown",
   "metadata": {
    "hideCode": true,
    "hidePrompt": true,
    "slideshow": {
     "slide_type": "fragment"
    }
   },
   "source": [
    "## Niveau de pression\n",
    "$$L_p=10\\log\\left(\\frac{p_e^2}{p_0^2}\\right)=10\\log\\left(\\frac{2^2}{\\left(2\\times10^{-5}\\right)^2}\\right)=100\\textrm{ dB}$$"
   ]
  },
  {
   "cell_type": "markdown",
   "metadata": {
    "hideCode": true,
    "hidePrompt": true,
    "slideshow": {
     "slide_type": "slide"
    }
   },
   "source": [
    "# 2. Spectre\n",
    "## Série de Fourier d'une fonction $T$-périodique\n",
    "$$f(x)=a_{0}+\\sum _{n=1}^{\\infty}\\left(a_{n}\\cos\\left(nx{\\frac {2\\pi }{T}}\\right)+b_{n}\\sin\\left(nx{\\frac {2\\pi }{T}}\\right)\\right)$$\n",
    "$$a_{0}={\\frac{1}{T}}\\int_{-T/2}^{T/2}f(t)\\,\\mathrm{d}t$$\n",
    "Pour $n>0$ :\n",
    "$$a_{n}={\\frac{2}{T}}\\int_{-T/2}^{T/2}f(t)\\cos\\left(nt{\\frac{2\\pi }{T}}\\right)\\,\\mathrm{d}t$$\n",
    "\n",
    "$$b_{n}={\\frac{2}{T}}\\int_{-T/2}^{T/2}f(t)\\sin\\left(nt{\\frac{2\\pi }{T}}\\right)\\,\\mathrm{d}t$$"
   ]
  },
  {
   "cell_type": "markdown",
   "metadata": {
    "hideCode": true,
    "hidePrompt": true,
    "slideshow": {
     "slide_type": "subslide"
    }
   },
   "source": [
    "## Calcul des coefficients\n",
    "\n",
    "Pour tout $n$, $a_n = 0$ ($\\,p$ fonction impaire).\n",
    "\n",
    "$$b_{n}={\\frac{2}{T}}\\int_{-T/2}^{T/2}p(t)\\sin \\left(nt{\\frac {2\\pi }{T}}\\right)\\,\\mathrm{d}t$$"
   ]
  },
  {
   "cell_type": "markdown",
   "metadata": {
    "hideCode": true,
    "hidePrompt": true,
    "slideshow": {
     "slide_type": "fragment"
    }
   },
   "source": [
    "$$b_{n}={\\frac{4}{T}}\\left(\\int_{0}^{T/2}\\sin\\left(nt{\\frac {2\\pi }{T}}\\right)\\,\\mathrm{d}t-\\int_{-T/2}^{0}\\sin\\left(nt{\\frac{2\\pi }{T}}\\right)\\,\\mathrm {d}t\\right)$$"
   ]
  },
  {
   "cell_type": "markdown",
   "metadata": {
    "hideCode": true,
    "hidePrompt": true,
    "slideshow": {
     "slide_type": "fragment"
    }
   },
   "source": [
    "$$b_{n}={\\frac{2}{n\\pi}}\\left(\\left[-\\cos\\left(nt{\\frac{2\\pi}{T}}\\right)\\right]_{0}^{T/2}-\\left[-\\cos\\left(nt{\\frac{2\\pi}{T}}\\right)\\right]_{-T/2}^{0}\\right)$$"
   ]
  },
  {
   "cell_type": "markdown",
   "metadata": {
    "hideCode": true,
    "hidePrompt": true,
    "slideshow": {
     "slide_type": "fragment"
    }
   },
   "source": [
    "$$b_{n}={\\frac{4}{n\\pi}}\\left(1-\\cos(n\\pi)\\right)$$"
   ]
  },
  {
   "cell_type": "markdown",
   "metadata": {
    "hideCode": true,
    "hidePrompt": true,
    "slideshow": {
     "slide_type": "subslide"
    }
   },
   "source": [
    "$$b_n = \\frac{8}{n\\pi}\\textrm{ pour }n =1,\\ 3,\\ 5,\\ 7\\textrm{ et }b_n=0\\textrm{ pour }n =2,\\ 4,\\ 6$$"
   ]
  },
  {
   "cell_type": "code",
   "execution_count": 2,
   "metadata": {
    "hideCode": true,
    "hidePrompt": true,
    "slideshow": {
     "slide_type": "-"
    }
   },
   "outputs": [
    {
     "data": {
      "image/png": "[encoded data removed]",
      "text/plain": [
       "<Figure size 864x432 with 1 Axes>"
      ]
     },
     "metadata": {
      "needs_background": "light"
     },
     "output_type": "display_data"
    }
   ],
   "source": [
    "X = [n/T for n in range(1, 8, 2)] # Fréquences\n",
    "Y = [8/(n*pi) for n in range(1, 8, 2)] # Coefficients\n",
    "draw(X, 'f [Hz]', Y, r'$b_n$ [Pa]', diagram = plt.scatter)"
   ]
  },
  {
   "cell_type": "markdown",
   "metadata": {
    "hideCode": true,
    "hidePrompt": true,
    "slideshow": {
     "slide_type": "subslide"
    }
   },
   "source": [
    "## Somme partielle\n",
    "$$p_n(t)=\\frac{8}{n\\pi}\\sin\\left(nt{\\frac{2\\pi }{T}}\\right)\\textrm{ pour }n\\textrm{ impair},\\ p_n(t)=0\\textrm{ pour }n\\textrm{ pair}$$\n",
    "$$p(t)\\approx\\sum _{n=1}^{4}p_{2n-1}$$"
   ]
  },
  {
   "cell_type": "code",
   "execution_count": 3,
   "metadata": {
    "hideCode": true,
    "hideOutput": false,
    "hidePrompt": true,
    "slideshow": {
     "slide_type": "-"
    }
   },
   "outputs": [
    {
     "data": {
      "application/vnd.jupyter.widget-view+json": {
       "model_id": "f9e56c18da474b72ab4afe3a18612393",
       "version_major": 2,
       "version_minor": 0
      },
      "text/plain": [
       "HBox(children=(interactive(children=(IntSlider(value=1, description='N', max=25, min=1), Output()), _dom_class…"
      ]
     },
     "metadata": {},
     "output_type": "display_data"
    }
   ],
   "source": [
    "from functools import lru_cache\n",
    "\n",
    "@lru_cache\n",
    "def pn(n, t):\n",
    "    return 8*sin(n*t*2*pi/T)/(n*pi)\n",
    "\n",
    "# Somme partielle\n",
    "@lru_cache\n",
    "def pa(N, t):\n",
    "    return sum(pn(2*n-1, t) for n in range(1, N+1))\n",
    "\n",
    "# Note : le recours à lru_cache permet d'accélerer le calcul en augmentant\n",
    "# l'utilisation de la mémoire cache\n",
    "\n",
    "def plot(N):\n",
    "    z = [pa(N, t) for t in x]\n",
    "    plt.figure(figsize=(12, 6))\n",
    "    plt.xlabel('t [s]')\n",
    "    plt.ylabel('p(t) [Pa]')\n",
    "    plt.ylim([-3,3])\n",
    "    plt.grid(alpha =.6, linestyle =':')\n",
    "    plt.plot(x, y,  x, z)\n",
    "    plt.show()\n",
    "    return N\n",
    "\n",
    "slider = interactive(plot, N = IntSlider(min = 1, max = 25, value = 1))\n",
    "\n",
    "def play_partial(_):\n",
    "    play(lambda t: pa(slider.result, t), 2)\n",
    "\n",
    "partial = Button(description = \"Somme partielle\")\n",
    "partial.on_click(play_partial)\n",
    "\n",
    "original = Button(description = \"Son d'origine\")\n",
    "original.on_click(play_original)\n",
    "\n",
    "HBox([slider, VBox([partial, original])])"
   ]
  },
  {
   "cell_type": "markdown",
   "metadata": {
    "hideCode": true,
    "hidePrompt": true,
    "slideshow": {
     "slide_type": "slide"
    }
   },
   "source": [
    "# 3. Spectre en bandes d'octave\n",
    "## Bandes d'octave\n",
    "$$\\left[\\frac{f_m}{\\sqrt{2}},\\ f_m\\sqrt{2}\\right]\\textrm{ avec }f_m\\textrm{ fréquence médiane}$$"
   ]
  },
  {
   "cell_type": "code",
   "execution_count": 4,
   "metadata": {
    "hideCode": true,
    "hidePrompt": true,
    "slideshow": {
     "slide_type": "-"
    }
   },
   "outputs": [
    {
     "name": "stdout",
     "output_type": "stream",
     "text": [
      " 125 Hz : [  88.4,  176.8] -> [  90,  180]\n",
      " 250 Hz : [ 176.8,  353.6] -> [ 180,  350]\n",
      " 500 Hz : [ 353.6,  707.1] -> [ 350,  700]\n",
      "1000 Hz : [ 707.1, 1414.2] -> [ 700, 1400]\n",
      "2000 Hz : [1414.2, 2828.4] -> [1400, 2800]\n",
      "4000 Hz : [2828.4, 5656.9] -> [2800, 5600]\n"
     ]
    }
   ],
   "source": [
    "fm = [125*2**n for n in range(6)]\n",
    "fa = [f/sqrt(2) for f in fm]\n",
    "fb = [f*sqrt(2) for f in fm]\n",
    "fc = [90, 180, 350, 700, 1400, 2800]\n",
    "fd = [180, 350, 700, 1400, 2800, 5600]\n",
    "for m, a, b, c, d in zip(fm, fa, fb, fc, fd):\n",
    "    print(f\"{m:-4g} Hz : [{a:-6.1f}, {b:-6.1f}] -> [{c:-4g}, {d:-4g}]\")"
   ]
  },
  {
   "cell_type": "markdown",
   "metadata": {
    "hideCode": true,
    "hidePrompt": true,
    "slideshow": {
     "slide_type": "subslide"
    }
   },
   "source": [
    "## Pression acoustique efficace des harmoniques ($n$ impair)\n",
    "$$p_{e,n}^2=\\frac{1}{T}\\int_0^T p_n^2(t) {\\rm d}t$$"
   ]
  },
  {
   "cell_type": "markdown",
   "metadata": {
    "hideCode": true,
    "hidePrompt": true,
    "slideshow": {
     "slide_type": "fragment"
    }
   },
   "source": [
    "$$p_{e,n}^2=\\frac{1}{T}\\left(\\frac{8}{n\\pi}\\right)^2\\int_0^T\\sin^2\\left(nt{\\frac{2\\pi}{T}}\\right) {\\rm d}t$$"
   ]
  },
  {
   "cell_type": "markdown",
   "metadata": {
    "hideCode": true,
    "hidePrompt": true,
    "slideshow": {
     "slide_type": "fragment"
    }
   },
   "source": [
    "$$p_{e,n}^2=\\frac{1}{2T}\\left(\\frac{8}{n\\pi}\\right)^2\\int_0^T\\left(1-\\cos\\left(nt{\\frac{4\\pi}{T}}\\right)\\right){\\rm d}t$$"
   ]
  },
  {
   "cell_type": "markdown",
   "metadata": {
    "hideCode": true,
    "hidePrompt": true,
    "slideshow": {
     "slide_type": "fragment"
    }
   },
   "source": [
    "$$p_{e,n}^2=\\frac{1}{2}\\left(\\frac{8}{n\\pi}\\right)^2$$"
   ]
  },
  {
   "cell_type": "markdown",
   "metadata": {
    "hideCode": true,
    "hidePrompt": true,
    "slideshow": {
     "slide_type": "subslide"
    }
   },
   "source": [
    "## Niveaux de pression par harmonique\n",
    "\n",
    "$$L_n=10\\log\\left(\\frac{p_{e,n}^2}{p_0^2}\\right)$$"
   ]
  },
  {
   "cell_type": "code",
   "execution_count": 5,
   "metadata": {
    "hideCode": true,
    "hidePrompt": true,
    "slideshow": {
     "slide_type": "-"
    }
   },
   "outputs": [
    {
     "data": {
      "image/png": "[encoded data removed]",
      "text/plain": [
       "<Figure size 864x432 with 1 Axes>"
      ]
     },
     "metadata": {
      "needs_background": "light"
     },
     "output_type": "display_data"
    }
   ],
   "source": [
    "p0 = 2e-5 # Pression de référence\n",
    "L = [10*log10(.5*(8/(n*pi))**2/p0**2) for n in range(1, 8, 2)] # Niveaux de pression\n",
    "draw(X, 'f [Hz]', L, 'L [dB]', diagram = plt.scatter)"
   ]
  },
  {
   "cell_type": "markdown",
   "metadata": {
    "hideCode": true,
    "hidePrompt": true,
    "slideshow": {
     "slide_type": "subslide"
    }
   },
   "source": [
    "## Niveaux de pression par octave\n",
    "$$L(125)=L_1,\\ L(250)=L_3,\\ L(500)=L_5\\oplus L_7=10\\log\\left(10^\\frac{L_5}{10}+10^\\frac{L_7}{10}\\right)$$"
   ]
  },
  {
   "cell_type": "code",
   "execution_count": 6,
   "metadata": {
    "hideCode": true,
    "hideOutput": false,
    "hidePrompt": true,
    "slideshow": {
     "slide_type": "-"
    }
   },
   "outputs": [
    {
     "name": "stdout",
     "output_type": "stream",
     "text": [
      "L(125) = 99.1 dB\n",
      "L(250) = 89.5 dB\n",
      "L(500) = 86.9 dB\n"
     ]
    }
   ],
   "source": [
    "# Somme logarithmique\n",
    "def lsum(*L):\n",
    "    return 10*log10(sum(10**(l/10) for l in L))\n",
    "\n",
    "print(f\"L(125) = {L[0]:4.1f} dB\")\n",
    "print(f\"L(250) = {L[1]:4.1f} dB\")\n",
    "print(f\"L(500) = {lsum(L[2],L[3]):4.1f} dB\")"
   ]
  }
 ],
 "metadata": {
  "celltoolbar": "Hide code",
  "hide_code_all_hidden": true,
  "kernelspec": {
   "display_name": "Python 3",
   "language": "python",
   "name": "python3"
  },
  "language_info": {
   "codemirror_mode": {
    "name": "ipython",
    "version": 3
   },
   "file_extension": ".py",
   "mimetype": "text/x-python",
   "name": "python",
   "nbconvert_exporter": "python",
   "pygments_lexer": "ipython3",
   "version": "3.8.5"
  },
  "widgets": {
   "application/vnd.jupyter.widget-state+json": {
    "state": {
     "02cbf7fd8d404f0ba380038dc451310d": {
      "model_module": "@jupyter-widgets/controls",
      "model_module_version": "1.5.0",
      "model_name": "ButtonModel",
      "state": {
       "description": "Écouter",
       "layout": "IPY_MODEL_a82d8abfb5864d93aca1aec27673217e",
       "style": "IPY_MODEL_0edaa0c7d49a4737bf02d8f23188dec6"
      }
     },
     "02e6064c4aec408aaa1123ac30e36326": {
      "model_module": "@jupyter-widgets/base",
      "model_module_version": "1.2.0",
      "model_name": "LayoutModel",
      "state": {}
     },
     "032cefb1caa84b2c8dc119e01434d269": {
      "model_module": "@jupyter-widgets/controls",
      "model_module_version": "1.5.0",
      "model_name": "HBoxModel",
      "state": {
       "children": [
        "IPY_MODEL_1dac8929c93d477080af145960b92b4b",
        "IPY_MODEL_2b06ba51dcfd40b8884a42fcf60af6da"
       ],
       "layout": "IPY_MODEL_78e36801f040451abbcba7afa2fe6737"
      }
     },
     "06eda8deb69749618d925e0c64220b9d": {
      "model_module": "@jupyter-widgets/base",
      "model_module_version": "1.2.0",
      "model_name": "LayoutModel",
      "state": {}
     },
     "0933d6155e4a45feb8298f94e4ca93a8": {
      "model_module": "@jupyter-widgets/output",
      "model_module_version": "1.0.0",
      "model_name": "OutputModel",
      "state": {
       "layout": "IPY_MODEL_651211a254f14e21abee46fe8dfd8750"
      }
     },
     "09b31f1ffabb422cb37b82c02787f888": {
      "model_module": "@jupyter-widgets/controls",
      "model_module_version": "1.5.0",
      "model_name": "ButtonStyleModel",
      "state": {}
     },
     "09b8acb9dd2146e485c2a548087f7a5d": {
      "model_module": "@jupyter-widgets/base",
      "model_module_version": "1.2.0",
      "model_name": "LayoutModel",
      "state": {}
     },
     "0b5e2f65b5eb4db2bdec27892565868f": {
      "model_module": "@jupyter-widgets/output",
      "model_module_version": "1.0.0",
      "model_name": "OutputModel",
      "state": {
       "layout": "IPY_MODEL_68bb6e580a174c16b0913e1e6b78fdeb",
       "outputs": [
        {
         "data": {
          "image/png": "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\n",
          "text/plain": "<Figure size 864x432 with 1 Axes>"
         },
         "metadata": {
          "needs_background": "light"
         },
         "output_type": "display_data"
        }
       ]
      }
     },
     "0da61a2fb41f4184be43053b83b5f609": {
      "model_module": "@jupyter-widgets/controls",
      "model_module_version": "1.5.0",
      "model_name": "ButtonModel",
      "state": {
       "description": "Somme partielle",
       "layout": "IPY_MODEL_e865cc357ce84258aa02cd812c3b128e",
       "style": "IPY_MODEL_f4344761e44444ccaf2fce9ab9b7872d"
      }
     },
     "0dcf15e0811f47889d16dcdee5a018ae": {
      "model_module": "@jupyter-widgets/base",
      "model_module_version": "1.2.0",
      "model_name": "LayoutModel",
      "state": {}
     },
     "0edaa0c7d49a4737bf02d8f23188dec6": {
      "model_module": "@jupyter-widgets/controls",
      "model_module_version": "1.5.0",
      "model_name": "ButtonStyleModel",
      "state": {}
     },
     "0f6a235fbbac4c92ad1a741558a45f1b": {
      "model_module": "@jupyter-widgets/controls",
      "model_module_version": "1.5.0",
      "model_name": "IntSliderModel",
      "state": {
       "description": "N",
       "layout": "IPY_MODEL_c1b36e110afa4d009cfb83aea75c8425",
       "max": 25,
       "min": 1,
       "style": "IPY_MODEL_8a3d49b8040847bfa2f621b8130ca288",
       "value": 1
      }
     },
     "105c1da080564daab4836b34e6ae246e": {
      "model_module": "@jupyter-widgets/controls",
      "model_module_version": "1.5.0",
      "model_name": "ButtonModel",
      "state": {
       "description": "Son d'origine",
       "layout": "IPY_MODEL_839525cc9de24f839dcbf80399b1bb51",
       "style": "IPY_MODEL_5333885b6381437b88048f64b74dcc0c"
      }
     },
     "10709d2ce274412ea5ac9098a440b472": {
      "model_module": "@jupyter-widgets/controls",
      "model_module_version": "1.5.0",
      "model_name": "SliderStyleModel",
      "state": {
       "description_width": ""
      }
     },
     "12453593a3e24007a4ea790daf00926a": {
      "model_module": "@jupyter-widgets/base",
      "model_module_version": "1.2.0",
      "model_name": "LayoutModel",
      "state": {}
     },
     "12500c5191e24bfb85140e17d9ef6221": {
      "model_module": "@jupyter-widgets/controls",
      "model_module_version": "1.5.0",
      "model_name": "IntSliderModel",
      "state": {
       "description": "N",
       "layout": "IPY_MODEL_fdf88e0c3a154d239c64c948e9881e8d",
       "max": 25,
       "min": 1,
       "style": "IPY_MODEL_2f682f4263454f4c87dec1e0d227aa0a",
       "value": 4
      }
     },
     "1cbf39ab08124cdb8a63da82ed9b6f49": {
      "model_module": "@jupyter-widgets/controls",
      "model_module_version": "1.5.0",
      "model_name": "IntSliderModel",
      "state": {
       "description": "N",
       "layout": "IPY_MODEL_3744e73f234a40679c7fe3c73cb82971",
       "max": 25,
       "min": 1,
       "style": "IPY_MODEL_c5fd003740a146f0936e4ef3446f6cd6",
       "value": 1
      }
     },
     "1dac8929c93d477080af145960b92b4b": {
      "model_module": "@jupyter-widgets/controls",
      "model_module_version": "1.5.0",
      "model_name": "VBoxModel",
      "state": {
       "_dom_classes": [
        "widget-interact"
       ],
       "children": [
        "IPY_MODEL_1cbf39ab08124cdb8a63da82ed9b6f49",
        "IPY_MODEL_0933d6155e4a45feb8298f94e4ca93a8"
       ],
       "layout": "IPY_MODEL_3c37731ef1ae49b2aacf52d6bbae77cf"
      }
     },
     "1de5578a3ade446cbe6d4944b2809315": {
      "model_module": "@jupyter-widgets/base",
      "model_module_version": "1.2.0",
      "model_name": "LayoutModel",
      "state": {}
     },
     "24cb7b4012a94928ab89a7906ee37740": {
      "model_module": "@jupyter-widgets/controls",
      "model_module_version": "1.5.0",
      "model_name": "ButtonStyleModel",
      "state": {}
     },
     "2711b7923c2e4588aeab624c1dacece6": {
      "model_module": "@jupyter-widgets/controls",
      "model_module_version": "1.5.0",
      "model_name": "HBoxModel",
      "state": {
       "children": [
        "IPY_MODEL_d1cf3843c77d49b4b1c5a5b56f595997",
        "IPY_MODEL_da42b7189f9044aebfc2af0a048ee25b"
       ],
       "layout": "IPY_MODEL_be9598c98a444c9480be6d634cc240ab"
      }
     },
     "2b06ba51dcfd40b8884a42fcf60af6da": {
      "model_module": "@jupyter-widgets/controls",
      "model_module_version": "1.5.0",
      "model_name": "VBoxModel",
      "state": {
       "children": [
        "IPY_MODEL_0da61a2fb41f4184be43053b83b5f609",
        "IPY_MODEL_c65526c49541493e8d4c40b132a3a86e"
       ],
       "layout": "IPY_MODEL_8c996574ca7f42d3b88e28ef729a1cdf"
      }
     },
     "2b2bf81712bd4d71a92869d519947416": {
      "model_module": "@jupyter-widgets/controls",
      "model_module_version": "1.5.0",
      "model_name": "ButtonStyleModel",
      "state": {}
     },
     "2f682f4263454f4c87dec1e0d227aa0a": {
      "model_module": "@jupyter-widgets/controls",
      "model_module_version": "1.5.0",
      "model_name": "SliderStyleModel",
      "state": {
       "description_width": ""
      }
     },
     "3092d1ed197f494baa2a627e575870b4": {
      "model_module": "@jupyter-widgets/controls",
      "model_module_version": "1.5.0",
      "model_name": "ButtonModel",
      "state": {
       "description": "Son d'origine",
       "layout": "IPY_MODEL_0dcf15e0811f47889d16dcdee5a018ae",
       "style": "IPY_MODEL_3f92d7d995a648e1accd5897760b322f"
      }
     },
     "314c3628557c4e288bbfa574d9191de9": {
      "model_module": "@jupyter-widgets/controls",
      "model_module_version": "1.5.0",
      "model_name": "ButtonModel",
      "state": {
       "description": "Écouter",
       "layout": "IPY_MODEL_ea993268293d49f59a3d621786aefc9b",
       "style": "IPY_MODEL_cacb0e4e1f884047a7f49c094b868deb"
      }
     },
     "32e3be7a2f1e45a4932ca8f75ba00e0a": {
      "model_module": "@jupyter-widgets/controls",
      "model_module_version": "1.5.0",
      "model_name": "VBoxModel",
      "state": {
       "children": [
        "IPY_MODEL_8cd1c1e17b364f23a02aaa0a2c828e98",
        "IPY_MODEL_3092d1ed197f494baa2a627e575870b4"
       ],
       "layout": "IPY_MODEL_764bb0080aa84be2bf0dc097cb99b331"
      }
     },
     "3744e73f234a40679c7fe3c73cb82971": {
      "model_module": "@jupyter-widgets/base",
      "model_module_version": "1.2.0",
      "model_name": "LayoutModel",
      "state": {}
     },
     "3a3182b5af0f49df96d2aee3bc83fba3": {
      "model_module": "@jupyter-widgets/base",
      "model_module_version": "1.2.0",
      "model_name": "LayoutModel",
      "state": {}
     },
     "3a3b7a1b3c6149a0822495ef1a4f797a": {
      "model_module": "@jupyter-widgets/base",
      "model_module_version": "1.2.0",
      "model_name": "LayoutModel",
      "state": {}
     },
     "3c37731ef1ae49b2aacf52d6bbae77cf": {
      "model_module": "@jupyter-widgets/base",
      "model_module_version": "1.2.0",
      "model_name": "LayoutModel",
      "state": {}
     },
     "3f7d68cf459f4eb281e2c89f8db38f63": {
      "model_module": "@jupyter-widgets/controls",
      "model_module_version": "1.5.0",
      "model_name": "ButtonStyleModel",
      "state": {}
     },
     "3f92d7d995a648e1accd5897760b322f": {
      "model_module": "@jupyter-widgets/controls",
      "model_module_version": "1.5.0",
      "model_name": "ButtonStyleModel",
      "state": {}
     },
     "458440d73cab4458a4a6535986849962": {
      "model_module": "@jupyter-widgets/base",
      "model_module_version": "1.2.0",
      "model_name": "LayoutModel",
      "state": {}
     },
     "4808cc014080467e916b33745305f618": {
      "model_module": "@jupyter-widgets/controls",
      "model_module_version": "1.5.0",
      "model_name": "HBoxModel",
      "state": {
       "children": [
        "IPY_MODEL_e2e06ac475cd46b4b030d9625c408a21",
        "IPY_MODEL_32e3be7a2f1e45a4932ca8f75ba00e0a"
       ],
       "layout": "IPY_MODEL_d18caaddbfb94473be1c5c32b71f067f"
      }
     },
     "486296aa52404ac8a8048198dc0de3ed": {
      "model_module": "@jupyter-widgets/base",
      "model_module_version": "1.2.0",
      "model_name": "LayoutModel",
      "state": {}
     },
     "4f1ebd2b65cf40088baec8290283a651": {
      "model_module": "@jupyter-widgets/base",
      "model_module_version": "1.2.0",
      "model_name": "LayoutModel",
      "state": {}
     },
     "51442a398e1849509361faa904cecfb8": {
      "model_module": "@jupyter-widgets/base",
      "model_module_version": "1.2.0",
      "model_name": "LayoutModel",
      "state": {}
     },
     "521240660a904cac879289b4bea22c84": {
      "model_module": "@jupyter-widgets/controls",
      "model_module_version": "1.5.0",
      "model_name": "VBoxModel",
      "state": {
       "children": [
        "IPY_MODEL_65aab6a4e7c34a37932d9e96d0114015",
        "IPY_MODEL_dce76b082170405da671e77e76c8e5ca"
       ],
       "layout": "IPY_MODEL_acda74a011644d0ab2d0e2036eebccda"
      }
     },
     "5333885b6381437b88048f64b74dcc0c": {
      "model_module": "@jupyter-widgets/controls",
      "model_module_version": "1.5.0",
      "model_name": "ButtonStyleModel",
      "state": {}
     },
     "5f11227cea384766a4950a9f7a69dc1c": {
      "model_module": "@jupyter-widgets/controls",
      "model_module_version": "1.5.0",
      "model_name": "ButtonStyleModel",
      "state": {}
     },
     "651211a254f14e21abee46fe8dfd8750": {
      "model_module": "@jupyter-widgets/base",
      "model_module_version": "1.2.0",
      "model_name": "LayoutModel",
      "state": {}
     },
     "654ffc10dcd2414abeaaf1a14149e52a": {
      "model_module": "@jupyter-widgets/controls",
      "model_module_version": "1.5.0",
      "model_name": "ButtonStyleModel",
      "state": {}
     },
     "65aab6a4e7c34a37932d9e96d0114015": {
      "model_module": "@jupyter-widgets/controls",
      "model_module_version": "1.5.0",
      "model_name": "ButtonModel",
      "state": {
       "description": "Somme partielle",
       "layout": "IPY_MODEL_b48d9b37dd524abaaf76bb882e4a8c39",
       "style": "IPY_MODEL_3f7d68cf459f4eb281e2c89f8db38f63"
      }
     },
     "68501badb3cf4dfba587cd0f6e1cf4e9": {
      "model_module": "@jupyter-widgets/controls",
      "model_module_version": "1.5.0",
      "model_name": "VBoxModel",
      "state": {
       "_dom_classes": [
        "widget-interact"
       ],
       "children": [
        "IPY_MODEL_d084201d08c24253bb0fe8a2e98c6063",
        "IPY_MODEL_bc9631b2e51844a9b29c2f5fc89845d0"
       ],
       "layout": "IPY_MODEL_ae4a722e3df246ebaea86f0d590b7cad"
      }
     },
     "68bb6e580a174c16b0913e1e6b78fdeb": {
      "model_module": "@jupyter-widgets/base",
      "model_module_version": "1.2.0",
      "model_name": "LayoutModel",
      "state": {}
     },
     "6c1c124b91ab4453ac6c19bed9abee54": {
      "model_module": "@jupyter-widgets/output",
      "model_module_version": "1.0.0",
      "model_name": "OutputModel",
      "state": {
       "layout": "IPY_MODEL_70ef31fb730444c6b5f6f746f3e8cf78",
       "outputs": [
        {
         "data": {
          "image/png": "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\n",
          "text/plain": "<Figure size 864x432 with 1 Axes>"
         },
         "metadata": {
          "needs_background": "light"
         },
         "output_type": "display_data"
        }
       ]
      }
     },
     "6f47f6571d694e3fb358ee1098df19eb": {
      "model_module": "@jupyter-widgets/controls",
      "model_module_version": "1.5.0",
      "model_name": "ButtonModel",
      "state": {
       "description": "Écouter",
       "layout": "IPY_MODEL_486296aa52404ac8a8048198dc0de3ed",
       "style": "IPY_MODEL_ea5d3706408e4d58b3a8e943c24b8bfa"
      }
     },
     "70ef31fb730444c6b5f6f746f3e8cf78": {
      "model_module": "@jupyter-widgets/base",
      "model_module_version": "1.2.0",
      "model_name": "LayoutModel",
      "state": {}
     },
     "751c7dd44bf3486eb2a451d857f07312": {
      "model_module": "@jupyter-widgets/base",
      "model_module_version": "1.2.0",
      "model_name": "LayoutModel",
      "state": {}
     },
     "7530e989ae5944e89ae090efafadee78": {
      "model_module": "@jupyter-widgets/base",
      "model_module_version": "1.2.0",
      "model_name": "LayoutModel",
      "state": {}
     },
     "7572cf0b496f45ca9a3e57774671d8d2": {
      "model_module": "@jupyter-widgets/controls",
      "model_module_version": "1.5.0",
      "model_name": "ButtonStyleModel",
      "state": {}
     },
     "764bb0080aa84be2bf0dc097cb99b331": {
      "model_module": "@jupyter-widgets/base",
      "model_module_version": "1.2.0",
      "model_name": "LayoutModel",
      "state": {}
     },
     "782f40ecc6134136836ba18a52c2a9fc": {
      "model_module": "@jupyter-widgets/controls",
      "model_module_version": "1.5.0",
      "model_name": "ButtonModel",
      "state": {
       "description": "Somme partielle",
       "layout": "IPY_MODEL_c6e30637ab4648378ccf35d697db6202",
       "style": "IPY_MODEL_24cb7b4012a94928ab89a7906ee37740"
      }
     },
     "78e36801f040451abbcba7afa2fe6737": {
      "model_module": "@jupyter-widgets/base",
      "model_module_version": "1.2.0",
      "model_name": "LayoutModel",
      "state": {}
     },
     "7def571a07b648cf8ccbc9ed26e01ab5": {
      "model_module": "@jupyter-widgets/base",
      "model_module_version": "1.2.0",
      "model_name": "LayoutModel",
      "state": {}
     },
     "800efcd338aa420f907bab156454ee31": {
      "model_module": "@jupyter-widgets/controls",
      "model_module_version": "1.5.0",
      "model_name": "ButtonModel",
      "state": {
       "description": "Son d'origine",
       "layout": "IPY_MODEL_09b8acb9dd2146e485c2a548087f7a5d",
       "style": "IPY_MODEL_5f11227cea384766a4950a9f7a69dc1c"
      }
     },
     "81fd8e2b968f406f986c990bb5714923": {
      "model_module": "@jupyter-widgets/base",
      "model_module_version": "1.2.0",
      "model_name": "LayoutModel",
      "state": {}
     },
     "839525cc9de24f839dcbf80399b1bb51": {
      "model_module": "@jupyter-widgets/base",
      "model_module_version": "1.2.0",
      "model_name": "LayoutModel",
      "state": {}
     },
     "845d7077f15d4b1db864317666556eaf": {
      "model_module": "@jupyter-widgets/base",
      "model_module_version": "1.2.0",
      "model_name": "LayoutModel",
      "state": {}
     },
     "88099ac327ff48c4a25414dd348f8a28": {
      "model_module": "@jupyter-widgets/controls",
      "model_module_version": "1.5.0",
      "model_name": "ButtonModel",
      "state": {
       "description": "Somme partielle",
       "layout": "IPY_MODEL_eb3d89bff5e34986bcf633758dba735e",
       "style": "IPY_MODEL_7572cf0b496f45ca9a3e57774671d8d2"
      }
     },
     "8a3d49b8040847bfa2f621b8130ca288": {
      "model_module": "@jupyter-widgets/controls",
      "model_module_version": "1.5.0",
      "model_name": "SliderStyleModel",
      "state": {
       "description_width": ""
      }
     },
     "8b33fbc3b2b9471a9382d7d70304455d": {
      "model_module": "@jupyter-widgets/base",
      "model_module_version": "1.2.0",
      "model_name": "LayoutModel",
      "state": {}
     },
     "8c1b702da6974d678f68808795e8b2e3": {
      "model_module": "@jupyter-widgets/controls",
      "model_module_version": "1.5.0",
      "model_name": "VBoxModel",
      "state": {
       "children": [
        "IPY_MODEL_a4408159673a47b89ca65c7213475c5f",
        "IPY_MODEL_105c1da080564daab4836b34e6ae246e"
       ],
       "layout": "IPY_MODEL_96c754741db34cbe9d54f34e786d0f9a"
      }
     },
     "8c996574ca7f42d3b88e28ef729a1cdf": {
      "model_module": "@jupyter-widgets/base",
      "model_module_version": "1.2.0",
      "model_name": "LayoutModel",
      "state": {}
     },
     "8ca0995821bd4ac18fa9bd4ba2d7e791": {
      "model_module": "@jupyter-widgets/output",
      "model_module_version": "1.0.0",
      "model_name": "OutputModel",
      "state": {
       "layout": "IPY_MODEL_02e6064c4aec408aaa1123ac30e36326",
       "outputs": [
        {
         "ename": "UnsupportedError",
         "evalue": "Failed in object mode pipeline (step: inline calls to locally defined closures)\n\u001b[1mThe use of yield in a closure is unsupported.\n\u001b[1m\nFile \"<ipython-input-7-e3b840647b83>\", line 11:\u001b[0m\n\u001b[1mdef pa(N, t):\n\u001b[1m    return sum(pn(2*n-1, t) for n in range(1, N+1))\n\u001b[0m    \u001b[1m^\u001b[0m\u001b[0m\n\u001b[0m",
         "output_type": "error",
         "traceback": [
          "\u001b[0;31m---------------------------------------------------------------------------\u001b[0m",
          "\u001b[0;31mUnsupportedError\u001b[0m                          Traceback (most recent call last)",
          "\u001b[0;32m~/.local/lib/python3.8/site-packages/ipywidgets/widgets/interaction.py\u001b[0m in \u001b[0;36mupdate\u001b[0;34m(self, *args)\u001b[0m\n\u001b[1;32m    254\u001b[0m                     \u001b[0mvalue\u001b[0m \u001b[0;34m=\u001b[0m \u001b[0mwidget\u001b[0m\u001b[0;34m.\u001b[0m\u001b[0mget_interact_value\u001b[0m\u001b[0;34m(\u001b[0m\u001b[0;34m)\u001b[0m\u001b[0;34m\u001b[0m\u001b[0;34m\u001b[0m\u001b[0m\n\u001b[1;32m    255\u001b[0m                     \u001b[0mself\u001b[0m\u001b[0;34m.\u001b[0m\u001b[0mkwargs\u001b[0m\u001b[0;34m[\u001b[0m\u001b[0mwidget\u001b[0m\u001b[0;34m.\u001b[0m\u001b[0m_kwarg\u001b[0m\u001b[0;34m]\u001b[0m \u001b[0;34m=\u001b[0m \u001b[0mvalue\u001b[0m\u001b[0;34m\u001b[0m\u001b[0;34m\u001b[0m\u001b[0m\n\u001b[0;32m--> 256\u001b[0;31m                 \u001b[0mself\u001b[0m\u001b[0;34m.\u001b[0m\u001b[0mresult\u001b[0m \u001b[0;34m=\u001b[0m \u001b[0mself\u001b[0m\u001b[0;34m.\u001b[0m\u001b[0mf\u001b[0m\u001b[0;34m(\u001b[0m\u001b[0;34m**\u001b[0m\u001b[0mself\u001b[0m\u001b[0;34m.\u001b[0m\u001b[0mkwargs\u001b[0m\u001b[0;34m)\u001b[0m\u001b[0;34m\u001b[0m\u001b[0;34m\u001b[0m\u001b[0m\n\u001b[0m\u001b[1;32m    257\u001b[0m                 \u001b[0mshow_inline_matplotlib_plots\u001b[0m\u001b[0;34m(\u001b[0m\u001b[0;34m)\u001b[0m\u001b[0;34m\u001b[0m\u001b[0;34m\u001b[0m\u001b[0m\n\u001b[1;32m    258\u001b[0m                 \u001b[0;32mif\u001b[0m \u001b[0mself\u001b[0m\u001b[0;34m.\u001b[0m\u001b[0mauto_display\u001b[0m \u001b[0;32mand\u001b[0m \u001b[0mself\u001b[0m\u001b[0;34m.\u001b[0m\u001b[0mresult\u001b[0m \u001b[0;32mis\u001b[0m \u001b[0;32mnot\u001b[0m \u001b[0;32mNone\u001b[0m\u001b[0;34m:\u001b[0m\u001b[0;34m\u001b[0m\u001b[0;34m\u001b[0m\u001b[0m\n",
          "\u001b[0;32m<ipython-input-7-e3b840647b83>\u001b[0m in \u001b[0;36mplot\u001b[0;34m(N)\u001b[0m\n\u001b[1;32m     15\u001b[0m \u001b[0;34m\u001b[0m\u001b[0m\n\u001b[1;32m     16\u001b[0m \u001b[0;32mdef\u001b[0m \u001b[0mplot\u001b[0m\u001b[0;34m(\u001b[0m\u001b[0mN\u001b[0m\u001b[0;34m)\u001b[0m\u001b[0;34m:\u001b[0m\u001b[0;34m\u001b[0m\u001b[0;34m\u001b[0m\u001b[0m\n\u001b[0;32m---> 17\u001b[0;31m     \u001b[0mz\u001b[0m \u001b[0;34m=\u001b[0m \u001b[0;34m[\u001b[0m\u001b[0mpa\u001b[0m\u001b[0;34m(\u001b[0m\u001b[0mN\u001b[0m\u001b[0;34m,\u001b[0m \u001b[0mt\u001b[0m\u001b[0;34m)\u001b[0m \u001b[0;32mfor\u001b[0m \u001b[0mt\u001b[0m \u001b[0;32min\u001b[0m \u001b[0mx\u001b[0m\u001b[0;34m]\u001b[0m\u001b[0;34m\u001b[0m\u001b[0;34m\u001b[0m\u001b[0m\n\u001b[0m\u001b[1;32m     18\u001b[0m     \u001b[0mplt\u001b[0m\u001b[0;34m.\u001b[0m\u001b[0mfigure\u001b[0m\u001b[0;34m(\u001b[0m\u001b[0mfigsize\u001b[0m\u001b[0;34m=\u001b[0m\u001b[0;34m(\u001b[0m\u001b[0;36m12\u001b[0m\u001b[0;34m,\u001b[0m \u001b[0;36m6\u001b[0m\u001b[0;34m)\u001b[0m\u001b[0;34m)\u001b[0m\u001b[0;34m\u001b[0m\u001b[0;34m\u001b[0m\u001b[0m\n\u001b[1;32m     19\u001b[0m     \u001b[0mplt\u001b[0m\u001b[0;34m.\u001b[0m\u001b[0mxlabel\u001b[0m\u001b[0;34m(\u001b[0m\u001b[0;34m't [s]'\u001b[0m\u001b[0;34m)\u001b[0m\u001b[0;34m\u001b[0m\u001b[0;34m\u001b[0m\u001b[0m\n",
          "\u001b[0;32m<ipython-input-7-e3b840647b83>\u001b[0m in \u001b[0;36m<listcomp>\u001b[0;34m(.0)\u001b[0m\n\u001b[1;32m     15\u001b[0m \u001b[0;34m\u001b[0m\u001b[0m\n\u001b[1;32m     16\u001b[0m \u001b[0;32mdef\u001b[0m \u001b[0mplot\u001b[0m\u001b[0;34m(\u001b[0m\u001b[0mN\u001b[0m\u001b[0;34m)\u001b[0m\u001b[0;34m:\u001b[0m\u001b[0;34m\u001b[0m\u001b[0;34m\u001b[0m\u001b[0m\n\u001b[0;32m---> 17\u001b[0;31m     \u001b[0mz\u001b[0m \u001b[0;34m=\u001b[0m \u001b[0;34m[\u001b[0m\u001b[0mpa\u001b[0m\u001b[0;34m(\u001b[0m\u001b[0mN\u001b[0m\u001b[0;34m,\u001b[0m \u001b[0mt\u001b[0m\u001b[0;34m)\u001b[0m \u001b[0;32mfor\u001b[0m \u001b[0mt\u001b[0m \u001b[0;32min\u001b[0m \u001b[0mx\u001b[0m\u001b[0;34m]\u001b[0m\u001b[0;34m\u001b[0m\u001b[0;34m\u001b[0m\u001b[0m\n\u001b[0m\u001b[1;32m     18\u001b[0m     \u001b[0mplt\u001b[0m\u001b[0;34m.\u001b[0m\u001b[0mfigure\u001b[0m\u001b[0;34m(\u001b[0m\u001b[0mfigsize\u001b[0m\u001b[0;34m=\u001b[0m\u001b[0;34m(\u001b[0m\u001b[0;36m12\u001b[0m\u001b[0;34m,\u001b[0m \u001b[0;36m6\u001b[0m\u001b[0;34m)\u001b[0m\u001b[0;34m)\u001b[0m\u001b[0;34m\u001b[0m\u001b[0;34m\u001b[0m\u001b[0m\n\u001b[1;32m     19\u001b[0m     \u001b[0mplt\u001b[0m\u001b[0;34m.\u001b[0m\u001b[0mxlabel\u001b[0m\u001b[0;34m(\u001b[0m\u001b[0;34m't [s]'\u001b[0m\u001b[0;34m)\u001b[0m\u001b[0;34m\u001b[0m\u001b[0;34m\u001b[0m\u001b[0m\n",
          "\u001b[0;32m/usr/lib/python3/dist-packages/numba/dispatcher.py\u001b[0m in \u001b[0;36m_compile_for_args\u001b[0;34m(self, *args, **kws)\u001b[0m\n\u001b[1;32m    402\u001b[0m         \u001b[0;32mexcept\u001b[0m \u001b[0merrors\u001b[0m\u001b[0;34m.\u001b[0m\u001b[0mUnsupportedError\u001b[0m \u001b[0;32mas\u001b[0m \u001b[0me\u001b[0m\u001b[0;34m:\u001b[0m\u001b[0;34m\u001b[0m\u001b[0;34m\u001b[0m\u001b[0m\n\u001b[1;32m    403\u001b[0m             \u001b[0;31m# Something unsupported is present in the user code, add help info\u001b[0m\u001b[0;34m\u001b[0m\u001b[0;34m\u001b[0m\u001b[0;34m\u001b[0m\u001b[0m\n\u001b[0;32m--> 404\u001b[0;31m             \u001b[0merror_rewrite\u001b[0m\u001b[0;34m(\u001b[0m\u001b[0me\u001b[0m\u001b[0;34m,\u001b[0m \u001b[0;34m'unsupported_error'\u001b[0m\u001b[0;34m)\u001b[0m\u001b[0;34m\u001b[0m\u001b[0;34m\u001b[0m\u001b[0m\n\u001b[0m\u001b[1;32m    405\u001b[0m         except (errors.NotDefinedError, errors.RedefinedError,\n\u001b[1;32m    406\u001b[0m                 errors.VerificationError) as e:\n",
          "\u001b[0;32m/usr/lib/python3/dist-packages/numba/dispatcher.py\u001b[0m in \u001b[0;36merror_rewrite\u001b[0;34m(e, issue_type)\u001b[0m\n\u001b[1;32m    342\u001b[0m                 \u001b[0;32mraise\u001b[0m \u001b[0me\u001b[0m\u001b[0;34m\u001b[0m\u001b[0;34m\u001b[0m\u001b[0m\n\u001b[1;32m    343\u001b[0m             \u001b[0;32melse\u001b[0m\u001b[0;34m:\u001b[0m\u001b[0;34m\u001b[0m\u001b[0;34m\u001b[0m\u001b[0m\n\u001b[0;32m--> 344\u001b[0;31m                 \u001b[0mreraise\u001b[0m\u001b[0;34m(\u001b[0m\u001b[0mtype\u001b[0m\u001b[0;34m(\u001b[0m\u001b[0me\u001b[0m\u001b[0;34m)\u001b[0m\u001b[0;34m,\u001b[0m \u001b[0me\u001b[0m\u001b[0;34m,\u001b[0m \u001b[0;32mNone\u001b[0m\u001b[0;34m)\u001b[0m\u001b[0;34m\u001b[0m\u001b[0;34m\u001b[0m\u001b[0m\n\u001b[0m\u001b[1;32m    345\u001b[0m \u001b[0;34m\u001b[0m\u001b[0m\n\u001b[1;32m    346\u001b[0m         \u001b[0margtypes\u001b[0m \u001b[0;34m=\u001b[0m \u001b[0;34m[\u001b[0m\u001b[0;34m]\u001b[0m\u001b[0;34m\u001b[0m\u001b[0;34m\u001b[0m\u001b[0m\n",
          "\u001b[0;32m/usr/lib/python3/dist-packages/numba/six.py\u001b[0m in \u001b[0;36mreraise\u001b[0;34m(tp, value, tb)\u001b[0m\n\u001b[1;32m    666\u001b[0m             \u001b[0mvalue\u001b[0m \u001b[0;34m=\u001b[0m \u001b[0mtp\u001b[0m\u001b[0;34m(\u001b[0m\u001b[0;34m)\u001b[0m\u001b[0;34m\u001b[0m\u001b[0;34m\u001b[0m\u001b[0m\n\u001b[1;32m    667\u001b[0m         \u001b[0;32mif\u001b[0m \u001b[0mvalue\u001b[0m\u001b[0;34m.\u001b[0m\u001b[0m__traceback__\u001b[0m \u001b[0;32mis\u001b[0m \u001b[0;32mnot\u001b[0m \u001b[0mtb\u001b[0m\u001b[0;34m:\u001b[0m\u001b[0;34m\u001b[0m\u001b[0;34m\u001b[0m\u001b[0m\n\u001b[0;32m--> 668\u001b[0;31m             \u001b[0;32mraise\u001b[0m \u001b[0mvalue\u001b[0m\u001b[0;34m.\u001b[0m\u001b[0mwith_traceback\u001b[0m\u001b[0;34m(\u001b[0m\u001b[0mtb\u001b[0m\u001b[0;34m)\u001b[0m\u001b[0;34m\u001b[0m\u001b[0;34m\u001b[0m\u001b[0m\n\u001b[0m\u001b[1;32m    669\u001b[0m         \u001b[0;32mraise\u001b[0m \u001b[0mvalue\u001b[0m\u001b[0;34m\u001b[0m\u001b[0;34m\u001b[0m\u001b[0m\n\u001b[1;32m    670\u001b[0m \u001b[0;34m\u001b[0m\u001b[0m\n",
          "\u001b[0;31mUnsupportedError\u001b[0m: Failed in object mode pipeline (step: inline calls to locally defined closures)\n\u001b[1mThe use of yield in a closure is unsupported.\n\u001b[1m\nFile \"<ipython-input-7-e3b840647b83>\", line 11:\u001b[0m\n\u001b[1mdef pa(N, t):\n\u001b[1m    return sum(pn(2*n-1, t) for n in range(1, N+1))\n\u001b[0m    \u001b[1m^\u001b[0m\u001b[0m\n\u001b[0m"
         ]
        }
       ]
      }
     },
     "8cd1c1e17b364f23a02aaa0a2c828e98": {
      "model_module": "@jupyter-widgets/controls",
      "model_module_version": "1.5.0",
      "model_name": "ButtonModel",
      "state": {
       "description": "Somme partielle",
       "layout": "IPY_MODEL_12453593a3e24007a4ea790daf00926a",
       "style": "IPY_MODEL_a4efd661cd794ca594019b6b095ad39a"
      }
     },
     "927086dd6e33403caaa6a52d4d9cd29b": {
      "model_module": "@jupyter-widgets/base",
      "model_module_version": "1.2.0",
      "model_name": "LayoutModel",
      "state": {}
     },
     "93a03a7846e44f6d82035b9e2bae1b6b": {
      "model_module": "@jupyter-widgets/controls",
      "model_module_version": "1.5.0",
      "model_name": "IntSliderModel",
      "state": {
       "description": "N",
       "layout": "IPY_MODEL_8b33fbc3b2b9471a9382d7d70304455d",
       "max": 25,
       "min": 1,
       "style": "IPY_MODEL_d9b193337e3d4dc7bd24021765cde241",
       "value": 1
      }
     },
     "93b9d21077fa4c8ab43e988e254c40b3": {
      "model_module": "@jupyter-widgets/controls",
      "model_module_version": "1.5.0",
      "model_name": "ButtonStyleModel",
      "state": {}
     },
     "9649e43c44594c01aef57a96d3c58a7b": {
      "model_module": "@jupyter-widgets/base",
      "model_module_version": "1.2.0",
      "model_name": "LayoutModel",
      "state": {}
     },
     "96c754741db34cbe9d54f34e786d0f9a": {
      "model_module": "@jupyter-widgets/base",
      "model_module_version": "1.2.0",
      "model_name": "LayoutModel",
      "state": {}
     },
     "a227b39b493a494a8e437cd428f0194e": {
      "model_module": "@jupyter-widgets/controls",
      "model_module_version": "1.5.0",
      "model_name": "ButtonStyleModel",
      "state": {}
     },
     "a4408159673a47b89ca65c7213475c5f": {
      "model_module": "@jupyter-widgets/controls",
      "model_module_version": "1.5.0",
      "model_name": "ButtonModel",
      "state": {
       "description": "Somme partielle",
       "layout": "IPY_MODEL_927086dd6e33403caaa6a52d4d9cd29b",
       "style": "IPY_MODEL_a227b39b493a494a8e437cd428f0194e"
      }
     },
     "a4efd661cd794ca594019b6b095ad39a": {
      "model_module": "@jupyter-widgets/controls",
      "model_module_version": "1.5.0",
      "model_name": "ButtonStyleModel",
      "state": {}
     },
     "a82d8abfb5864d93aca1aec27673217e": {
      "model_module": "@jupyter-widgets/base",
      "model_module_version": "1.2.0",
      "model_name": "LayoutModel",
      "state": {}
     },
     "a942976df5fa4059a848097badd58eaa": {
      "model_module": "@jupyter-widgets/controls",
      "model_module_version": "1.5.0",
      "model_name": "HBoxModel",
      "state": {
       "children": [
        "IPY_MODEL_b8f546db9dc74c1f8c9bf670e9bd4c0e",
        "IPY_MODEL_521240660a904cac879289b4bea22c84"
       ],
       "layout": "IPY_MODEL_3a3b7a1b3c6149a0822495ef1a4f797a"
      }
     },
     "acda74a011644d0ab2d0e2036eebccda": {
      "model_module": "@jupyter-widgets/base",
      "model_module_version": "1.2.0",
      "model_name": "LayoutModel",
      "state": {}
     },
     "ae4a722e3df246ebaea86f0d590b7cad": {
      "model_module": "@jupyter-widgets/base",
      "model_module_version": "1.2.0",
      "model_name": "LayoutModel",
      "state": {}
     },
     "b1aec31ecda24c4084f9c8c0c5bfd4ca": {
      "model_module": "@jupyter-widgets/output",
      "model_module_version": "1.0.0",
      "model_name": "OutputModel",
      "state": {
       "layout": "IPY_MODEL_7def571a07b648cf8ccbc9ed26e01ab5",
       "outputs": [
        {
         "data": {
          "image/png": "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\n",
          "text/plain": "<Figure size 864x432 with 1 Axes>"
         },
         "metadata": {
          "needs_background": "light"
         },
         "output_type": "display_data"
        }
       ]
      }
     },
     "b2c1326c9dc54120ae818ffc3b74d8ac": {
      "model_module": "@jupyter-widgets/controls",
      "model_module_version": "1.5.0",
      "model_name": "SliderStyleModel",
      "state": {
       "description_width": ""
      }
     },
     "b48d9b37dd524abaaf76bb882e4a8c39": {
      "model_module": "@jupyter-widgets/base",
      "model_module_version": "1.2.0",
      "model_name": "LayoutModel",
      "state": {}
     },
     "b8f546db9dc74c1f8c9bf670e9bd4c0e": {
      "model_module": "@jupyter-widgets/controls",
      "model_module_version": "1.5.0",
      "model_name": "VBoxModel",
      "state": {
       "_dom_classes": [
        "widget-interact"
       ],
       "children": [
        "IPY_MODEL_0f6a235fbbac4c92ad1a741558a45f1b",
        "IPY_MODEL_0b5e2f65b5eb4db2bdec27892565868f"
       ],
       "layout": "IPY_MODEL_51442a398e1849509361faa904cecfb8"
      }
     },
     "bc9631b2e51844a9b29c2f5fc89845d0": {
      "model_module": "@jupyter-widgets/output",
      "model_module_version": "1.0.0",
      "model_name": "OutputModel",
      "state": {
       "layout": "IPY_MODEL_751c7dd44bf3486eb2a451d857f07312",
       "outputs": [
        {
         "data": {
          "image/png": "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\n",
          "text/plain": "<Figure size 864x432 with 1 Axes>"
         },
         "metadata": {
          "needs_background": "light"
         },
         "output_type": "display_data"
        }
       ]
      }
     },
     "bcc3375e76d941438cb3bf16ee0ffc75": {
      "model_module": "@jupyter-widgets/controls",
      "model_module_version": "1.5.0",
      "model_name": "ButtonModel",
      "state": {
       "description": "Écouter",
       "layout": "IPY_MODEL_7530e989ae5944e89ae090efafadee78",
       "style": "IPY_MODEL_654ffc10dcd2414abeaaf1a14149e52a"
      }
     },
     "be9598c98a444c9480be6d634cc240ab": {
      "model_module": "@jupyter-widgets/base",
      "model_module_version": "1.2.0",
      "model_name": "LayoutModel",
      "state": {}
     },
     "c00ca5d0006b478db2fd7a0c500cf2a2": {
      "model_module": "@jupyter-widgets/base",
      "model_module_version": "1.2.0",
      "model_name": "LayoutModel",
      "state": {}
     },
     "c1b36e110afa4d009cfb83aea75c8425": {
      "model_module": "@jupyter-widgets/base",
      "model_module_version": "1.2.0",
      "model_name": "LayoutModel",
      "state": {}
     },
     "c53d3c2995874a219f36883fa297ce65": {
      "model_module": "@jupyter-widgets/controls",
      "model_module_version": "1.5.0",
      "model_name": "ButtonModel",
      "state": {
       "description": "Son d'origine",
       "layout": "IPY_MODEL_3a3182b5af0f49df96d2aee3bc83fba3",
       "style": "IPY_MODEL_93b9d21077fa4c8ab43e988e254c40b3"
      }
     },
     "c55259c869e049288c3e34d08b02f913": {
      "model_module": "@jupyter-widgets/base",
      "model_module_version": "1.2.0",
      "model_name": "LayoutModel",
      "state": {}
     },
     "c5fd003740a146f0936e4ef3446f6cd6": {
      "model_module": "@jupyter-widgets/controls",
      "model_module_version": "1.5.0",
      "model_name": "SliderStyleModel",
      "state": {
       "description_width": ""
      }
     },
     "c65526c49541493e8d4c40b132a3a86e": {
      "model_module": "@jupyter-widgets/controls",
      "model_module_version": "1.5.0",
      "model_name": "ButtonModel",
      "state": {
       "description": "Son d'origine",
       "layout": "IPY_MODEL_458440d73cab4458a4a6535986849962",
       "style": "IPY_MODEL_2b2bf81712bd4d71a92869d519947416"
      }
     },
     "c6e30637ab4648378ccf35d697db6202": {
      "model_module": "@jupyter-widgets/base",
      "model_module_version": "1.2.0",
      "model_name": "LayoutModel",
      "state": {}
     },
     "cacb0e4e1f884047a7f49c094b868deb": {
      "model_module": "@jupyter-widgets/controls",
      "model_module_version": "1.5.0",
      "model_name": "ButtonStyleModel",
      "state": {}
     },
     "ce6bd7ceae8f4cc6a06455c1dc75b859": {
      "model_module": "@jupyter-widgets/controls",
      "model_module_version": "1.5.0",
      "model_name": "VBoxModel",
      "state": {
       "children": [
        "IPY_MODEL_782f40ecc6134136836ba18a52c2a9fc",
        "IPY_MODEL_800efcd338aa420f907bab156454ee31"
       ],
       "layout": "IPY_MODEL_4f1ebd2b65cf40088baec8290283a651"
      }
     },
     "d084201d08c24253bb0fe8a2e98c6063": {
      "model_module": "@jupyter-widgets/controls",
      "model_module_version": "1.5.0",
      "model_name": "IntSliderModel",
      "state": {
       "description": "N",
       "layout": "IPY_MODEL_81fd8e2b968f406f986c990bb5714923",
       "max": 25,
       "min": 1,
       "style": "IPY_MODEL_b2c1326c9dc54120ae818ffc3b74d8ac",
       "value": 4
      }
     },
     "d18caaddbfb94473be1c5c32b71f067f": {
      "model_module": "@jupyter-widgets/base",
      "model_module_version": "1.2.0",
      "model_name": "LayoutModel",
      "state": {}
     },
     "d1c16420d21344e19499c19fffa33c8d": {
      "model_module": "@jupyter-widgets/controls",
      "model_module_version": "1.5.0",
      "model_name": "HBoxModel",
      "state": {
       "children": [
        "IPY_MODEL_d4cf8a1abe8a4e6da2cb2c3880e0e308",
        "IPY_MODEL_ce6bd7ceae8f4cc6a06455c1dc75b859"
       ],
       "layout": "IPY_MODEL_845d7077f15d4b1db864317666556eaf"
      }
     },
     "d1cf3843c77d49b4b1c5a5b56f595997": {
      "model_module": "@jupyter-widgets/controls",
      "model_module_version": "1.5.0",
      "model_name": "VBoxModel",
      "state": {
       "_dom_classes": [
        "widget-interact"
       ],
       "children": [
        "IPY_MODEL_f3c49ca240be4eef92174973ee69aff7",
        "IPY_MODEL_6c1c124b91ab4453ac6c19bed9abee54"
       ],
       "layout": "IPY_MODEL_e3441bf7c2f641b1903b45243c6c00fd"
      }
     },
     "d4cf8a1abe8a4e6da2cb2c3880e0e308": {
      "model_module": "@jupyter-widgets/controls",
      "model_module_version": "1.5.0",
      "model_name": "VBoxModel",
      "state": {
       "_dom_classes": [
        "widget-interact"
       ],
       "children": [
        "IPY_MODEL_93a03a7846e44f6d82035b9e2bae1b6b",
        "IPY_MODEL_8ca0995821bd4ac18fa9bd4ba2d7e791"
       ],
       "layout": "IPY_MODEL_d806249a835e4b05bbff8263fcab1e63"
      }
     },
     "d806249a835e4b05bbff8263fcab1e63": {
      "model_module": "@jupyter-widgets/base",
      "model_module_version": "1.2.0",
      "model_name": "LayoutModel",
      "state": {}
     },
     "d9b193337e3d4dc7bd24021765cde241": {
      "model_module": "@jupyter-widgets/controls",
      "model_module_version": "1.5.0",
      "model_name": "SliderStyleModel",
      "state": {
       "description_width": ""
      }
     },
     "da42b7189f9044aebfc2af0a048ee25b": {
      "model_module": "@jupyter-widgets/controls",
      "model_module_version": "1.5.0",
      "model_name": "VBoxModel",
      "state": {
       "children": [
        "IPY_MODEL_88099ac327ff48c4a25414dd348f8a28",
        "IPY_MODEL_c53d3c2995874a219f36883fa297ce65"
       ],
       "layout": "IPY_MODEL_c55259c869e049288c3e34d08b02f913"
      }
     },
     "dce76b082170405da671e77e76c8e5ca": {
      "model_module": "@jupyter-widgets/controls",
      "model_module_version": "1.5.0",
      "model_name": "ButtonModel",
      "state": {
       "description": "Son d'origine",
       "layout": "IPY_MODEL_1de5578a3ade446cbe6d4944b2809315",
       "style": "IPY_MODEL_09b31f1ffabb422cb37b82c02787f888"
      }
     },
     "e2e06ac475cd46b4b030d9625c408a21": {
      "model_module": "@jupyter-widgets/controls",
      "model_module_version": "1.5.0",
      "model_name": "VBoxModel",
      "state": {
       "_dom_classes": [
        "widget-interact"
       ],
       "children": [
        "IPY_MODEL_12500c5191e24bfb85140e17d9ef6221",
        "IPY_MODEL_b1aec31ecda24c4084f9c8c0c5bfd4ca"
       ],
       "layout": "IPY_MODEL_9649e43c44594c01aef57a96d3c58a7b"
      }
     },
     "e3441bf7c2f641b1903b45243c6c00fd": {
      "model_module": "@jupyter-widgets/base",
      "model_module_version": "1.2.0",
      "model_name": "LayoutModel",
      "state": {}
     },
     "e865cc357ce84258aa02cd812c3b128e": {
      "model_module": "@jupyter-widgets/base",
      "model_module_version": "1.2.0",
      "model_name": "LayoutModel",
      "state": {}
     },
     "ea5d3706408e4d58b3a8e943c24b8bfa": {
      "model_module": "@jupyter-widgets/controls",
      "model_module_version": "1.5.0",
      "model_name": "ButtonStyleModel",
      "state": {}
     },
     "ea993268293d49f59a3d621786aefc9b": {
      "model_module": "@jupyter-widgets/base",
      "model_module_version": "1.2.0",
      "model_name": "LayoutModel",
      "state": {}
     },
     "eb3d89bff5e34986bcf633758dba735e": {
      "model_module": "@jupyter-widgets/base",
      "model_module_version": "1.2.0",
      "model_name": "LayoutModel",
      "state": {}
     },
     "f3c49ca240be4eef92174973ee69aff7": {
      "model_module": "@jupyter-widgets/controls",
      "model_module_version": "1.5.0",
      "model_name": "IntSliderModel",
      "state": {
       "description": "N",
       "layout": "IPY_MODEL_c00ca5d0006b478db2fd7a0c500cf2a2",
       "max": 25,
       "min": 1,
       "style": "IPY_MODEL_10709d2ce274412ea5ac9098a440b472",
       "value": 12
      }
     },
     "f4344761e44444ccaf2fce9ab9b7872d": {
      "model_module": "@jupyter-widgets/controls",
      "model_module_version": "1.5.0",
      "model_name": "ButtonStyleModel",
      "state": {}
     },
     "f9e56c18da474b72ab4afe3a18612393": {
      "model_module": "@jupyter-widgets/controls",
      "model_module_version": "1.5.0",
      "model_name": "HBoxModel",
      "state": {
       "children": [
        "IPY_MODEL_68501badb3cf4dfba587cd0f6e1cf4e9",
        "IPY_MODEL_8c1b702da6974d678f68808795e8b2e3"
       ],
       "layout": "IPY_MODEL_06eda8deb69749618d925e0c64220b9d"
      }
     },
     "fdf88e0c3a154d239c64c948e9881e8d": {
      "model_module": "@jupyter-widgets/base",
      "model_module_version": "1.2.0",
      "model_name": "LayoutModel",
      "state": {}
     }
    },
    "version_major": 2,
    "version_minor": 0
   }
  }
 },
 "nbformat": 4,
 "nbformat_minor": 4
}
