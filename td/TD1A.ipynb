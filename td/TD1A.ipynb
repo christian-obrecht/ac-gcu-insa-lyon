{
 "cells": [
  {
   "cell_type": "markdown",
   "metadata": {
    "hideCode": true,
    "hidePrompt": true,
    "slideshow": {
     "slide_type": "slide"
    }
   },
   "source": [
    "# TD1 - Exercice 1\n",
    "Soit un signal sonore périodique dont la pression acoustique instantanée est donnée sur la figure ci-dessous.\n",
    "\n",
    "1. À partir du calcul de la pression acoustique efficace, déterminer le niveau de pression.\n",
    "2. Tracer le spectre de la pression acoustique pour des fréquences allant jusqu’à 700 Hz.\n",
    "3. Donner le spectre en bandes d’octave de ce son."
   ]
  },
  {
   "cell_type": "code",
   "execution_count": 1,
   "metadata": {
    "hideCode": true,
    "hideOutput": false,
    "hidePrompt": true,
    "slideshow": {
     "slide_type": "skip"
    }
   },
   "outputs": [
    {
     "data": {
      "image/png": "[encoded data removed]",
      "text/plain": [
       "<Figure size 864x432 with 1 Axes>"
      ]
     },
     "metadata": {
      "needs_background": "light"
     },
     "output_type": "display_data"
    },
    {
     "data": {
      "application/vnd.jupyter.widget-view+json": {
       "model_id": "39a5e18c679348d1934dcbd9096e050d",
       "version_major": 2,
       "version_minor": 0
      },
      "text/plain": [
       "Button(description='Écouter', style=ButtonStyle())"
      ]
     },
     "metadata": {},
     "output_type": "display_data"
    }
   ],
   "source": [
    "\"\"\"\n",
    "INSA Lyon - Département Génie Civil et Urbanisme\n",
    "Travaux dirigés d'acoustique du bâtiment\n",
    "\n",
    "Copyright © 2021 Christian Obrecht <christian.obrecht@insa-lyon.fr>\n",
    "\n",
    "Ce document est distribué sous licence Creative Commons CC-BY-NC-SA\n",
    "\"\"\"\n",
    "\n",
    "from math import remainder, log10, pi, sin, sqrt\n",
    "from numpy import linspace, array, int16\n",
    "from simpleaudio import WaveObject\n",
    "from ipywidgets import interactive, HBox, VBox, Button, IntSlider\n",
    "import matplotlib.pyplot as plt\n",
    "\n",
    "# Représentation graphique\n",
    "def draw(x, lx, y, ly, size = (12, 6), diagram = plt.plot):\n",
    "    plt.figure(figsize = size)\n",
    "    plt.xlabel(lx)\n",
    "    plt.ylabel(ly)\n",
    "    plt.grid(alpha =.6, linestyle =':')\n",
    "    diagram(x, y)\n",
    "    plt.show()\n",
    "    \n",
    "# Rendu sonore\n",
    "def play(p, duration):\n",
    "    rate = 44100\n",
    "    sampling = linspace(0, duration, duration*rate)\n",
    "    # Conversion du signal en entiers signés 16 bits avec normalisation\n",
    "    # par l'amplitude maximale de la première harmonique\n",
    "    audio = array([p(t)*0x7FFF*pi/8 for t in sampling]).astype(int16)\n",
    "    wave = WaveObject(audio, 1, 2, rate)\n",
    "    wave.play()\n",
    "\n",
    "T = 0.01 # Période\n",
    "\n",
    "# Pression acoustique instantanée\n",
    "def p(t):\n",
    "    return 2 if remainder(t, T) > 0 else -2\n",
    "\n",
    "x = linspace(0, 0.026, 500) # Temps\n",
    "y = [p(t) for t in x] # Pression\n",
    "draw(x, 't [s]', y, 'p(t) [Pa]')\n",
    "\n",
    "def play_original(_):\n",
    "    play(p, 2)\n",
    "\n",
    "button = Button(description = 'Écouter')\n",
    "button.on_click(play_original)\n",
    "button"
   ]
  },
  {
   "cell_type": "markdown",
   "metadata": {
    "hideCode": true,
    "hideOutput": false,
    "hidePrompt": true,
    "slideshow": {
     "slide_type": "slide"
    }
   },
   "source": [
    "# 1. Calcul du niveau de pression\n",
    "## Pression acoustique efficace\n",
    "$$p_e^2=\\frac{1}{T}\\int_0^T p^2(t) {\\rm d}t$$"
   ]
  },
  {
   "cell_type": "markdown",
   "metadata": {
    "hideCode": true,
    "hidePrompt": true,
    "slideshow": {
     "slide_type": "fragment"
    }
   },
   "source": [
    "Pour tout $t$, $p^2(t)=4$ donc $p_e=2$ Pa."
   ]
  },
  {
   "cell_type": "markdown",
   "metadata": {
    "hideCode": true,
    "hidePrompt": true,
    "slideshow": {
     "slide_type": "fragment"
    }
   },
   "source": [
    "## Niveau de pression\n",
    "$$L_p=10\\log\\left(\\frac{p_e^2}{p_0^2}\\right)=10\\log\\left(\\frac{2^2}{\\left(2\\times10^{-5}\\right)^2}\\right)=100\\textrm{ dB}$$"
   ]
  },
  {
   "cell_type": "markdown",
   "metadata": {
    "hideCode": true,
    "hidePrompt": true,
    "slideshow": {
     "slide_type": "slide"
    }
   },
   "source": [
    "# 2. Spectre\n",
    "## Série de Fourier d'une fonction $T$-périodique\n",
    "$$f(x)=a_{0}+\\sum _{n=1}^{\\infty}\\left(a_{n}\\cos\\left(nx{\\frac {2\\pi }{T}}\\right)+b_{n}\\sin\\left(nx{\\frac {2\\pi }{T}}\\right)\\right)$$\n",
    "$$a_{0}={\\frac{1}{T}}\\int_{-T/2}^{T/2}f(t)\\,\\mathrm{d}t$$\n",
    "Pour $n>0$ :\n",
    "$$a_{n}={\\frac{2}{T}}\\int_{-T/2}^{T/2}f(t)\\cos\\left(nt{\\frac{2\\pi }{T}}\\right)\\,\\mathrm{d}t$$\n",
    "\n",
    "$$b_{n}={\\frac{2}{T}}\\int_{-T/2}^{T/2}f(t)\\sin\\left(nt{\\frac{2\\pi }{T}}\\right)\\,\\mathrm{d}t$$"
   ]
  },
  {
   "cell_type": "markdown",
   "metadata": {
    "hideCode": true,
    "hidePrompt": true,
    "slideshow": {
     "slide_type": "subslide"
    }
   },
   "source": [
    "## Calcul des coefficients\n",
    "\n",
    "Pour tout $n$, $a_n = 0$ ($\\,p$ fonction impaire).\n",
    "\n",
    "$$b_{n}={\\frac{2}{T}}\\int_{-T/2}^{T/2}p(t)\\sin \\left(nt{\\frac {2\\pi }{T}}\\right)\\,\\mathrm{d}t$$"
   ]
  },
  {
   "cell_type": "markdown",
   "metadata": {
    "hideCode": true,
    "hidePrompt": true,
    "slideshow": {
     "slide_type": "fragment"
    }
   },
   "source": [
    "$$b_{n}={\\frac{4}{T}}\\left(\\int_{0}^{T/2}\\sin\\left(nt{\\frac {2\\pi }{T}}\\right)\\,\\mathrm{d}t-\\int_{-T/2}^{0}\\sin\\left(nt{\\frac{2\\pi }{T}}\\right)\\,\\mathrm {d}t\\right)$$"
   ]
  },
  {
   "cell_type": "markdown",
   "metadata": {
    "hideCode": true,
    "hidePrompt": true,
    "slideshow": {
     "slide_type": "fragment"
    }
   },
   "source": [
    "$$b_{n}={\\frac{2}{n\\pi}}\\left(\\left[-\\cos\\left(nt{\\frac{2\\pi}{T}}\\right)\\right]_{0}^{T/2}-\\left[-\\cos\\left(nt{\\frac{2\\pi}{T}}\\right)\\right]_{-T/2}^{0}\\right)$$"
   ]
  },
  {
   "cell_type": "markdown",
   "metadata": {
    "hideCode": true,
    "hidePrompt": true,
    "slideshow": {
     "slide_type": "fragment"
    }
   },
   "source": [
    "$$b_{n}={\\frac{4}{n\\pi}}\\left(1-\\cos(n\\pi)\\right)$$"
   ]
  },
  {
   "cell_type": "markdown",
   "metadata": {
    "hideCode": true,
    "hidePrompt": true,
    "slideshow": {
     "slide_type": "subslide"
    }
   },
   "source": [
    "$$b_n = \\frac{8}{n\\pi}\\textrm{ pour }n =1,\\ 3,\\ 5,\\ 7\\textrm{ et }b_n=0\\textrm{ pour }n =2,\\ 4,\\ 6$$"
   ]
  },
  {
   "cell_type": "code",
   "execution_count": 2,
   "metadata": {
    "hideCode": true,
    "hidePrompt": true,
    "slideshow": {
     "slide_type": "-"
    }
   },
   "outputs": [
    {
     "data": {
      "image/png": "[encoded data removed]",
      "text/plain": [
       "<Figure size 864x432 with 1 Axes>"
      ]
     },
     "metadata": {
      "needs_background": "light"
     },
     "output_type": "display_data"
    }
   ],
   "source": [
    "X = [n/T for n in range(1, 8, 2)] # Fréquences\n",
    "Y = [8/(n*pi) for n in range(1, 8, 2)] # Coefficients\n",
    "draw(X, 'f [Hz]', Y, r'$b_n$ [Pa]', diagram = plt.scatter)"
   ]
  },
  {
   "cell_type": "markdown",
   "metadata": {
    "hideCode": true,
    "hidePrompt": true,
    "slideshow": {
     "slide_type": "subslide"
    }
   },
   "source": [
    "## Somme partielle\n",
    "$$p_n(t)=\\frac{8}{n\\pi}\\sin\\left(nt{\\frac{2\\pi }{T}}\\right)\\textrm{ pour }n\\textrm{ impair},\\ p_n(t)=0\\textrm{ pour }n\\textrm{ pair}$$\n",
    "$$p(t)\\approx\\sum _{n=1}^{4}p_{2n-1}$$"
   ]
  },
  {
   "cell_type": "code",
   "execution_count": 3,
   "metadata": {
    "hideCode": true,
    "hideOutput": false,
    "hidePrompt": true,
    "slideshow": {
     "slide_type": "-"
    }
   },
   "outputs": [
    {
     "data": {
      "application/vnd.jupyter.widget-view+json": {
       "model_id": "843c67679ecb4e008a81d799e1bf8ec4",
       "version_major": 2,
       "version_minor": 0
      },
      "text/plain": [
       "HBox(children=(interactive(children=(IntSlider(value=1, description='N', max=25, min=1), Output()), _dom_class…"
      ]
     },
     "metadata": {},
     "output_type": "display_data"
    }
   ],
   "source": [
    "# Pression acoustique instantanée de la n-ème harmonique\n",
    "def pn(n, t):\n",
    "    return 8*sin(n*t*2*pi/T)/(n*pi)\n",
    "\n",
    "# Somme partielle\n",
    "def pa(N, t):\n",
    "    return sum(pn(2*n-1, remainder(t, T)) for n in range(1, N+1))\n",
    "\n",
    "# Note : le recours à remainder permet d'accélerer le calcul en augmentant\n",
    "# l'utilisation de la mémoire cache\n",
    "\n",
    "def plot(N):\n",
    "    z = [pa(N, t) for t in x]\n",
    "    plt.figure(figsize=(12, 6))\n",
    "    plt.xlabel('t [s]')\n",
    "    plt.ylabel('p(t) [Pa]')\n",
    "    plt.ylim([-3,3])\n",
    "    plt.grid(alpha =.6, linestyle =':')\n",
    "    plt.plot(x, y,  x, z)\n",
    "    plt.show()\n",
    "    return N\n",
    "\n",
    "slider = interactive(plot, N = IntSlider(min = 1, max = 25, value = 1))\n",
    "\n",
    "def play_partial(_):\n",
    "    play(lambda t: pa(slider.result, t), 2)\n",
    "\n",
    "partial = Button(description = \"Somme partielle\")\n",
    "partial.on_click(play_partial)\n",
    "\n",
    "original = Button(description = \"Son d'origine\")\n",
    "original.on_click(play_original)\n",
    "\n",
    "HBox([slider, VBox([partial, original])])"
   ]
  },
  {
   "cell_type": "markdown",
   "metadata": {
    "hideCode": true,
    "hidePrompt": true,
    "slideshow": {
     "slide_type": "slide"
    }
   },
   "source": [
    "# 3. Spectre en bandes d'octave\n",
    "## Bandes d'octave\n",
    "$$\\left[\\frac{f_m}{\\sqrt{2}},\\ f_m\\sqrt{2}\\right]\\textrm{ avec }f_m\\textrm{ fréquence médiane}$$"
   ]
  },
  {
   "cell_type": "code",
   "execution_count": 4,
   "metadata": {
    "hideCode": true,
    "hidePrompt": true,
    "slideshow": {
     "slide_type": "-"
    }
   },
   "outputs": [
    {
     "name": "stdout",
     "output_type": "stream",
     "text": [
      " 125 Hz : [  88.4,  176.8] -> [  90,  180]\n",
      " 250 Hz : [ 176.8,  353.6] -> [ 180,  350]\n",
      " 500 Hz : [ 353.6,  707.1] -> [ 350,  700]\n",
      "1000 Hz : [ 707.1, 1414.2] -> [ 700, 1400]\n",
      "2000 Hz : [1414.2, 2828.4] -> [1400, 2800]\n",
      "4000 Hz : [2828.4, 5656.9] -> [2800, 5600]\n"
     ]
    }
   ],
   "source": [
    "fm = [125*2**n for n in range(6)]\n",
    "fa = [f/sqrt(2) for f in fm]\n",
    "fb = [f*sqrt(2) for f in fm]\n",
    "fc = [90, 180, 350, 700, 1400, 2800]\n",
    "fd = [180, 350, 700, 1400, 2800, 5600]\n",
    "for m, a, b, c, d in zip(fm, fa, fb, fc, fd):\n",
    "    print(f\"{m:-4g} Hz : [{a:-6.1f}, {b:-6.1f}] -> [{c:-4g}, {d:-4g}]\")"
   ]
  },
  {
   "cell_type": "markdown",
   "metadata": {
    "hideCode": true,
    "hidePrompt": true,
    "slideshow": {
     "slide_type": "subslide"
    }
   },
   "source": [
    "## Pression acoustique efficace des harmoniques ($n$ impair)\n",
    "$$p_{e,n}^2=\\frac{1}{T}\\int_0^T p_n^2(t) {\\rm d}t$$"
   ]
  },
  {
   "cell_type": "markdown",
   "metadata": {
    "hideCode": true,
    "hidePrompt": true,
    "slideshow": {
     "slide_type": "fragment"
    }
   },
   "source": [
    "$$p_{e,n}^2=\\frac{1}{T}\\left(\\frac{8}{n\\pi}\\right)^2\\int_0^T\\sin^2\\left(nt{\\frac{2\\pi}{T}}\\right) {\\rm d}t$$"
   ]
  },
  {
   "cell_type": "markdown",
   "metadata": {
    "hideCode": true,
    "hidePrompt": true,
    "slideshow": {
     "slide_type": "fragment"
    }
   },
   "source": [
    "$$p_{e,n}^2=\\frac{1}{2T}\\left(\\frac{8}{n\\pi}\\right)^2\\int_0^T\\left(1-\\cos\\left(nt{\\frac{4\\pi}{T}}\\right)\\right){\\rm d}t$$"
   ]
  },
  {
   "cell_type": "markdown",
   "metadata": {
    "hideCode": true,
    "hidePrompt": true,
    "slideshow": {
     "slide_type": "fragment"
    }
   },
   "source": [
    "$$p_{e,n}^2=\\frac{1}{2}\\left(\\frac{8}{n\\pi}\\right)^2$$"
   ]
  },
  {
   "cell_type": "markdown",
   "metadata": {
    "hideCode": true,
    "hidePrompt": true,
    "slideshow": {
     "slide_type": "subslide"
    }
   },
   "source": [
    "## Niveaux de pression par harmonique\n",
    "\n",
    "$$L_n=10\\log\\left(\\frac{p_{e,n}^2}{p_0^2}\\right)$$"
   ]
  },
  {
   "cell_type": "code",
   "execution_count": 5,
   "metadata": {
    "hideCode": true,
    "hidePrompt": true,
    "slideshow": {
     "slide_type": "-"
    }
   },
   "outputs": [
    {
     "data": {
      "image/png": "[encoded data removed]",
      "text/plain": [
       "<Figure size 864x432 with 1 Axes>"
      ]
     },
     "metadata": {
      "needs_background": "light"
     },
     "output_type": "display_data"
    }
   ],
   "source": [
    "p0 = 2e-5 # Pression de référence\n",
    "L = [10*log10(.5*(8/(n*pi))**2/p0**2) for n in range(1, 8, 2)] # Niveaux de pression\n",
    "draw(X, 'f [Hz]', L, 'L [dB]', diagram = plt.scatter)"
   ]
  },
  {
   "cell_type": "markdown",
   "metadata": {
    "hideCode": true,
    "hidePrompt": true,
    "slideshow": {
     "slide_type": "subslide"
    }
   },
   "source": [
    "## Niveaux de pression par octave\n",
    "$$L(125)=L_1,\\ L(250)=L_3,\\ L(500)=L_5\\oplus L_7=10\\log\\left(10^\\frac{L_5}{10}+10^\\frac{L_7}{10}\\right)$$"
   ]
  },
  {
   "cell_type": "code",
   "execution_count": 6,
   "metadata": {
    "hideCode": true,
    "hideOutput": false,
    "hidePrompt": true,
    "slideshow": {
     "slide_type": "-"
    }
   },
   "outputs": [
    {
     "name": "stdout",
     "output_type": "stream",
     "text": [
      "L(125) = 99.1 dB\n",
      "L(250) = 89.5 dB\n",
      "L(500) = 86.9 dB\n"
     ]
    }
   ],
   "source": [
    "# Somme logarithmique\n",
    "def lsum(*L):\n",
    "    return 10*log10(sum(10**(l/10) for l in L))\n",
    "\n",
    "print(f\"L(125) = {L[0]:4.1f} dB\")\n",
    "print(f\"L(250) = {L[1]:4.1f} dB\")\n",
    "print(f\"L(500) = {lsum(L[2],L[3]):4.1f} dB\")"
   ]
  }
 ],
 "metadata": {
  "celltoolbar": "Aucun(e)",
  "hide_code_all_hidden": true,
  "kernelspec": {
   "display_name": "Python 3",
   "language": "python",
   "name": "python3"
  },
  "language_info": {
   "codemirror_mode": {
    "name": "ipython",
    "version": 3
   },
   "file_extension": ".py",
   "mimetype": "text/x-python",
   "name": "python",
   "nbconvert_exporter": "python",
   "pygments_lexer": "ipython3",
   "version": "3.8.5"
  },
  "widgets": {
   "application/vnd.jupyter.widget-state+json": {
    "state": {
     "032cefb1caa84b2c8dc119e01434d269": {
      "model_module": "@jupyter-widgets/controls",
      "model_module_version": "1.5.0",
      "model_name": "HBoxModel",
      "state": {
       "children": [
        "IPY_MODEL_1dac8929c93d477080af145960b92b4b",
        "IPY_MODEL_2b06ba51dcfd40b8884a42fcf60af6da"
       ],
       "layout": "IPY_MODEL_78e36801f040451abbcba7afa2fe6737"
      }
     },
     "0933d6155e4a45feb8298f94e4ca93a8": {
      "model_module": "@jupyter-widgets/output",
      "model_module_version": "1.0.0",
      "model_name": "OutputModel",
      "state": {
       "layout": "IPY_MODEL_651211a254f14e21abee46fe8dfd8750"
      }
     },
     "09b31f1ffabb422cb37b82c02787f888": {
      "model_module": "@jupyter-widgets/controls",
      "model_module_version": "1.5.0",
      "model_name": "ButtonStyleModel",
      "state": {}
     },
     "0b5e2f65b5eb4db2bdec27892565868f": {
      "model_module": "@jupyter-widgets/output",
      "model_module_version": "1.0.0",
      "model_name": "OutputModel",
      "state": {
       "layout": "IPY_MODEL_68bb6e580a174c16b0913e1e6b78fdeb",
       "outputs": [
        {
         "data": {
          "image/png": "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\n",
          "text/plain": "<Figure size 864x432 with 1 Axes>"
         },
         "metadata": {
          "needs_background": "light"
         },
         "output_type": "display_data"
        }
       ]
      }
     },
     "0da61a2fb41f4184be43053b83b5f609": {
      "model_module": "@jupyter-widgets/controls",
      "model_module_version": "1.5.0",
      "model_name": "ButtonModel",
      "state": {
       "description": "Somme partielle",
       "layout": "IPY_MODEL_e865cc357ce84258aa02cd812c3b128e",
       "style": "IPY_MODEL_f4344761e44444ccaf2fce9ab9b7872d"
      }
     },
     "0f6a235fbbac4c92ad1a741558a45f1b": {
      "model_module": "@jupyter-widgets/controls",
      "model_module_version": "1.5.0",
      "model_name": "IntSliderModel",
      "state": {
       "description": "N",
       "layout": "IPY_MODEL_c1b36e110afa4d009cfb83aea75c8425",
       "max": 25,
       "min": 1,
       "style": "IPY_MODEL_8a3d49b8040847bfa2f621b8130ca288",
       "value": 1
      }
     },
     "1cbf39ab08124cdb8a63da82ed9b6f49": {
      "model_module": "@jupyter-widgets/controls",
      "model_module_version": "1.5.0",
      "model_name": "IntSliderModel",
      "state": {
       "description": "N",
       "layout": "IPY_MODEL_3744e73f234a40679c7fe3c73cb82971",
       "max": 25,
       "min": 1,
       "style": "IPY_MODEL_c5fd003740a146f0936e4ef3446f6cd6",
       "value": 1
      }
     },
     "1dac8929c93d477080af145960b92b4b": {
      "model_module": "@jupyter-widgets/controls",
      "model_module_version": "1.5.0",
      "model_name": "VBoxModel",
      "state": {
       "_dom_classes": [
        "widget-interact"
       ],
       "children": [
        "IPY_MODEL_1cbf39ab08124cdb8a63da82ed9b6f49",
        "IPY_MODEL_0933d6155e4a45feb8298f94e4ca93a8"
       ],
       "layout": "IPY_MODEL_3c37731ef1ae49b2aacf52d6bbae77cf"
      }
     },
     "1de5578a3ade446cbe6d4944b2809315": {
      "model_module": "@jupyter-widgets/base",
      "model_module_version": "1.2.0",
      "model_name": "LayoutModel",
      "state": {}
     },
     "2b06ba51dcfd40b8884a42fcf60af6da": {
      "model_module": "@jupyter-widgets/controls",
      "model_module_version": "1.5.0",
      "model_name": "VBoxModel",
      "state": {
       "children": [
        "IPY_MODEL_0da61a2fb41f4184be43053b83b5f609",
        "IPY_MODEL_c65526c49541493e8d4c40b132a3a86e"
       ],
       "layout": "IPY_MODEL_8c996574ca7f42d3b88e28ef729a1cdf"
      }
     },
     "2b2bf81712bd4d71a92869d519947416": {
      "model_module": "@jupyter-widgets/controls",
      "model_module_version": "1.5.0",
      "model_name": "ButtonStyleModel",
      "state": {}
     },
     "3744e73f234a40679c7fe3c73cb82971": {
      "model_module": "@jupyter-widgets/base",
      "model_module_version": "1.2.0",
      "model_name": "LayoutModel",
      "state": {}
     },
     "3a3b7a1b3c6149a0822495ef1a4f797a": {
      "model_module": "@jupyter-widgets/base",
      "model_module_version": "1.2.0",
      "model_name": "LayoutModel",
      "state": {}
     },
     "3c37731ef1ae49b2aacf52d6bbae77cf": {
      "model_module": "@jupyter-widgets/base",
      "model_module_version": "1.2.0",
      "model_name": "LayoutModel",
      "state": {}
     },
     "3f7d68cf459f4eb281e2c89f8db38f63": {
      "model_module": "@jupyter-widgets/controls",
      "model_module_version": "1.5.0",
      "model_name": "ButtonStyleModel",
      "state": {}
     },
     "458440d73cab4458a4a6535986849962": {
      "model_module": "@jupyter-widgets/base",
      "model_module_version": "1.2.0",
      "model_name": "LayoutModel",
      "state": {}
     },
     "486296aa52404ac8a8048198dc0de3ed": {
      "model_module": "@jupyter-widgets/base",
      "model_module_version": "1.2.0",
      "model_name": "LayoutModel",
      "state": {}
     },
     "51442a398e1849509361faa904cecfb8": {
      "model_module": "@jupyter-widgets/base",
      "model_module_version": "1.2.0",
      "model_name": "LayoutModel",
      "state": {}
     },
     "521240660a904cac879289b4bea22c84": {
      "model_module": "@jupyter-widgets/controls",
      "model_module_version": "1.5.0",
      "model_name": "VBoxModel",
      "state": {
       "children": [
        "IPY_MODEL_65aab6a4e7c34a37932d9e96d0114015",
        "IPY_MODEL_dce76b082170405da671e77e76c8e5ca"
       ],
       "layout": "IPY_MODEL_acda74a011644d0ab2d0e2036eebccda"
      }
     },
     "651211a254f14e21abee46fe8dfd8750": {
      "model_module": "@jupyter-widgets/base",
      "model_module_version": "1.2.0",
      "model_name": "LayoutModel",
      "state": {}
     },
     "654ffc10dcd2414abeaaf1a14149e52a": {
      "model_module": "@jupyter-widgets/controls",
      "model_module_version": "1.5.0",
      "model_name": "ButtonStyleModel",
      "state": {}
     },
     "65aab6a4e7c34a37932d9e96d0114015": {
      "model_module": "@jupyter-widgets/controls",
      "model_module_version": "1.5.0",
      "model_name": "ButtonModel",
      "state": {
       "description": "Somme partielle",
       "layout": "IPY_MODEL_b48d9b37dd524abaaf76bb882e4a8c39",
       "style": "IPY_MODEL_3f7d68cf459f4eb281e2c89f8db38f63"
      }
     },
     "68bb6e580a174c16b0913e1e6b78fdeb": {
      "model_module": "@jupyter-widgets/base",
      "model_module_version": "1.2.0",
      "model_name": "LayoutModel",
      "state": {}
     },
     "6f47f6571d694e3fb358ee1098df19eb": {
      "model_module": "@jupyter-widgets/controls",
      "model_module_version": "1.5.0",
      "model_name": "ButtonModel",
      "state": {
       "description": "Écouter",
       "layout": "IPY_MODEL_486296aa52404ac8a8048198dc0de3ed",
       "style": "IPY_MODEL_ea5d3706408e4d58b3a8e943c24b8bfa"
      }
     },
     "7530e989ae5944e89ae090efafadee78": {
      "model_module": "@jupyter-widgets/base",
      "model_module_version": "1.2.0",
      "model_name": "LayoutModel",
      "state": {}
     },
     "78e36801f040451abbcba7afa2fe6737": {
      "model_module": "@jupyter-widgets/base",
      "model_module_version": "1.2.0",
      "model_name": "LayoutModel",
      "state": {}
     },
     "8a3d49b8040847bfa2f621b8130ca288": {
      "model_module": "@jupyter-widgets/controls",
      "model_module_version": "1.5.0",
      "model_name": "SliderStyleModel",
      "state": {
       "description_width": ""
      }
     },
     "8c996574ca7f42d3b88e28ef729a1cdf": {
      "model_module": "@jupyter-widgets/base",
      "model_module_version": "1.2.0",
      "model_name": "LayoutModel",
      "state": {}
     },
     "a942976df5fa4059a848097badd58eaa": {
      "model_module": "@jupyter-widgets/controls",
      "model_module_version": "1.5.0",
      "model_name": "HBoxModel",
      "state": {
       "children": [
        "IPY_MODEL_b8f546db9dc74c1f8c9bf670e9bd4c0e",
        "IPY_MODEL_521240660a904cac879289b4bea22c84"
       ],
       "layout": "IPY_MODEL_3a3b7a1b3c6149a0822495ef1a4f797a"
      }
     },
     "acda74a011644d0ab2d0e2036eebccda": {
      "model_module": "@jupyter-widgets/base",
      "model_module_version": "1.2.0",
      "model_name": "LayoutModel",
      "state": {}
     },
     "b48d9b37dd524abaaf76bb882e4a8c39": {
      "model_module": "@jupyter-widgets/base",
      "model_module_version": "1.2.0",
      "model_name": "LayoutModel",
      "state": {}
     },
     "b8f546db9dc74c1f8c9bf670e9bd4c0e": {
      "model_module": "@jupyter-widgets/controls",
      "model_module_version": "1.5.0",
      "model_name": "VBoxModel",
      "state": {
       "_dom_classes": [
        "widget-interact"
       ],
       "children": [
        "IPY_MODEL_0f6a235fbbac4c92ad1a741558a45f1b",
        "IPY_MODEL_0b5e2f65b5eb4db2bdec27892565868f"
       ],
       "layout": "IPY_MODEL_51442a398e1849509361faa904cecfb8"
      }
     },
     "bcc3375e76d941438cb3bf16ee0ffc75": {
      "model_module": "@jupyter-widgets/controls",
      "model_module_version": "1.5.0",
      "model_name": "ButtonModel",
      "state": {
       "description": "Écouter",
       "layout": "IPY_MODEL_7530e989ae5944e89ae090efafadee78",
       "style": "IPY_MODEL_654ffc10dcd2414abeaaf1a14149e52a"
      }
     },
     "c1b36e110afa4d009cfb83aea75c8425": {
      "model_module": "@jupyter-widgets/base",
      "model_module_version": "1.2.0",
      "model_name": "LayoutModel",
      "state": {}
     },
     "c5fd003740a146f0936e4ef3446f6cd6": {
      "model_module": "@jupyter-widgets/controls",
      "model_module_version": "1.5.0",
      "model_name": "SliderStyleModel",
      "state": {
       "description_width": ""
      }
     },
     "c65526c49541493e8d4c40b132a3a86e": {
      "model_module": "@jupyter-widgets/controls",
      "model_module_version": "1.5.0",
      "model_name": "ButtonModel",
      "state": {
       "description": "Son d'origine",
       "layout": "IPY_MODEL_458440d73cab4458a4a6535986849962",
       "style": "IPY_MODEL_2b2bf81712bd4d71a92869d519947416"
      }
     },
     "dce76b082170405da671e77e76c8e5ca": {
      "model_module": "@jupyter-widgets/controls",
      "model_module_version": "1.5.0",
      "model_name": "ButtonModel",
      "state": {
       "description": "Son d'origine",
       "layout": "IPY_MODEL_1de5578a3ade446cbe6d4944b2809315",
       "style": "IPY_MODEL_09b31f1ffabb422cb37b82c02787f888"
      }
     },
     "e865cc357ce84258aa02cd812c3b128e": {
      "model_module": "@jupyter-widgets/base",
      "model_module_version": "1.2.0",
      "model_name": "LayoutModel",
      "state": {}
     },
     "ea5d3706408e4d58b3a8e943c24b8bfa": {
      "model_module": "@jupyter-widgets/controls",
      "model_module_version": "1.5.0",
      "model_name": "ButtonStyleModel",
      "state": {}
     },
     "f4344761e44444ccaf2fce9ab9b7872d": {
      "model_module": "@jupyter-widgets/controls",
      "model_module_version": "1.5.0",
      "model_name": "ButtonStyleModel",
      "state": {}
     }
    },
    "version_major": 2,
    "version_minor": 0
   }
  }
 },
 "nbformat": 4,
 "nbformat_minor": 4
}
