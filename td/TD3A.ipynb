{
 "cells": [
  {
   "cell_type": "markdown",
   "metadata": {
    "hideCode": true,
    "hidePrompt": true,
    "slideshow": {
     "slide_type": "slide"
    }
   },
   "source": [
    "# TD3 - Exercice 1\n",
    "Formule de Sabine :\n",
    "$$\\textrm{Tr}=\\frac{0{,}163V}{S\\bar{\\alpha}}$$\n",
    "Coefficient d’absorption moyen de Sabine :\n",
    "$$\\bar{\\alpha}=\\frac{1}{S}\\sum_{i=1}^{N}S_i\\alpha_i$$"
   ]
  },
  {
   "cell_type": "markdown",
   "metadata": {
    "hideCode": true,
    "hidePrompt": true,
    "slideshow": {
     "slide_type": "fragment"
    }
   },
   "source": [
    "En présence du panneau :\n",
    "$$\\textrm{Tr}_m=\\frac{0{,}163V}{(S-S_m)\\bar{\\alpha}+S_m\\alpha_m}$$\n",
    "Donc :\n",
    "$$\\alpha_m=\\bar{\\alpha}+\\frac{0{,}163V}{S_m}\\left(\\frac{1}{\\textrm{Tr}_m}-\\frac{1}{\\textrm{Tr}}\\right)$$"
   ]
  },
  {
   "cell_type": "code",
   "execution_count": 1,
   "metadata": {
    "hideCode": true,
    "hidePrompt": true,
    "slideshow": {
     "slide_type": "skip"
    }
   },
   "outputs": [],
   "source": [
    "\"\"\"\n",
    "INSA Lyon - Département Génie Civil et Urbanisme\n",
    "Travaux dirigés d'acoustique du bâtiment\n",
    "\n",
    "Copyright © 2021 Christian Obrecht <christian.obrecht@insa-lyon.fr>\n",
    "\n",
    "Ce document est distribué sous licence Creative Commons CC-BY-NC-SA\n",
    "\"\"\"\n",
    "\n",
    "from math import log10\n",
    "from pandas import DataFrame, set_option\n",
    "import matplotlib.pyplot as plt\n",
    "\n",
    "# Somme logarithmique d'une liste\n",
    "def lsum(L):\n",
    "    return 10*log10(sum([10**(l/10) for l in L]))\n",
    "\n",
    "# Représentation graphique\n",
    "def draw(x, lx, y, ly, size = (12, 6), diagram = plt.plot):\n",
    "    plt.figure(figsize = size)\n",
    "    plt.xlabel(lx)\n",
    "    plt.ylabel(ly)\n",
    "    plt.grid(alpha =.6, linestyle =':')\n",
    "    diagram(x, y)\n",
    "    plt.show()\n",
    "\n",
    "# Présentation sous la forme d'un tableau\n",
    "def table(d):\n",
    "    display(DataFrame(d).set_index(list(d.keys())[0]).T)\n",
    "\n",
    "set_option(\"display.precision\", 3)"
   ]
  },
  {
   "cell_type": "code",
   "execution_count": 2,
   "metadata": {
    "hideCode": false,
    "hidePrompt": true,
    "slideshow": {
     "slide_type": "subslide"
    }
   },
   "outputs": [
    {
     "data": {
      "text/html": [
       "<div>\n",
       "<style scoped>\n",
       "    .dataframe tbody tr th:only-of-type {\n",
       "        vertical-align: middle;\n",
       "    }\n",
       "\n",
       "    .dataframe tbody tr th {\n",
       "        vertical-align: top;\n",
       "    }\n",
       "\n",
       "    .dataframe thead th {\n",
       "        text-align: right;\n",
       "    }\n",
       "</style>\n",
       "<table border=\"1\" class=\"dataframe\">\n",
       "  <thead>\n",
       "    <tr style=\"text-align: right;\">\n",
       "      <th>Fréquence [Hz]</th>\n",
       "      <th>100</th>\n",
       "      <th>125</th>\n",
       "      <th>157</th>\n",
       "      <th>200</th>\n",
       "      <th>250</th>\n",
       "      <th>315</th>\n",
       "      <th>400</th>\n",
       "      <th>500</th>\n",
       "      <th>630</th>\n",
       "      <th>800</th>\n",
       "      <th>1000</th>\n",
       "      <th>1250</th>\n",
       "      <th>1600</th>\n",
       "      <th>2000</th>\n",
       "      <th>2500</th>\n",
       "      <th>3150</th>\n",
       "      <th>4000</th>\n",
       "      <th>5000</th>\n",
       "    </tr>\n",
       "  </thead>\n",
       "  <tbody>\n",
       "    <tr>\n",
       "      <th>$α_0$</th>\n",
       "      <td>0.012</td>\n",
       "      <td>0.015</td>\n",
       "      <td>0.025</td>\n",
       "      <td>0.026</td>\n",
       "      <td>0.026</td>\n",
       "      <td>0.027</td>\n",
       "      <td>0.027</td>\n",
       "      <td>0.025</td>\n",
       "      <td>0.023</td>\n",
       "      <td>0.023</td>\n",
       "      <td>0.025</td>\n",
       "      <td>0.026</td>\n",
       "      <td>0.029</td>\n",
       "      <td>0.036</td>\n",
       "      <td>0.042</td>\n",
       "      <td>0.051</td>\n",
       "      <td>0.065</td>\n",
       "      <td>0.091</td>\n",
       "    </tr>\n",
       "    <tr>\n",
       "      <th>$α_1$</th>\n",
       "      <td>0.034</td>\n",
       "      <td>0.082</td>\n",
       "      <td>0.150</td>\n",
       "      <td>0.179</td>\n",
       "      <td>0.226</td>\n",
       "      <td>0.358</td>\n",
       "      <td>0.480</td>\n",
       "      <td>0.652</td>\n",
       "      <td>0.727</td>\n",
       "      <td>0.772</td>\n",
       "      <td>0.895</td>\n",
       "      <td>0.946</td>\n",
       "      <td>0.902</td>\n",
       "      <td>0.862</td>\n",
       "      <td>0.854</td>\n",
       "      <td>0.800</td>\n",
       "      <td>0.919</td>\n",
       "      <td>0.845</td>\n",
       "    </tr>\n",
       "  </tbody>\n",
       "</table>\n",
       "</div>"
      ],
      "text/plain": [
       "Fréquence [Hz]   100    125    157    200    250    315    400    500    630   \\\n",
       "$α_0$           0.012  0.015  0.025  0.026  0.026  0.027  0.027  0.025  0.023   \n",
       "$α_1$           0.034  0.082  0.150  0.179  0.226  0.358  0.480  0.652  0.727   \n",
       "\n",
       "Fréquence [Hz]   800    1000   1250   1600   2000   2500   3150   4000   5000  \n",
       "$α_0$           0.023  0.025  0.026  0.029  0.036  0.042  0.051  0.065  0.091  \n",
       "$α_1$           0.772  0.895  0.946  0.902  0.862  0.854  0.800  0.919  0.845  "
      ]
     },
     "metadata": {},
     "output_type": "display_data"
    },
    {
     "data": {
      "image/png": "[encoded data removed]",
      "text/plain": [
       "<Figure size 864x432 with 1 Axes>"
      ]
     },
     "metadata": {
      "needs_background": "light"
     },
     "output_type": "display_data"
    }
   ],
   "source": [
    "F = [100, 125, 157, 200, 250, 315, 400, 500, 630, 800, 1000, 1250, 1600, 2000, 2500, 3150, 4000, 5000]\n",
    "T0 = [13.7, 10.9, 6.5, 6.2, 6.3, 6.1, 6, 6.5, 7.1, 7.1, 6.4, 6.2, 5.6, 4.5, 3.9, 3.2, 2.5, 1.8]\n",
    "T1 = [12.3,  8.6, 5.0, 4.6, 4.3, 3.5, 3, 2.6, 2.5, 2.4, 2.1, 2.0, 2.0, 1.9, 1.8, 1.7, 1.4, 1.2]\n",
    "\n",
    "V = 200\n",
    "S = 200\n",
    "Sm = 12\n",
    "\n",
    "α0 = [0.163*V/(S*t) for t in T0]\n",
    "α1 = [α + 0.163*V/Sm*(1/t1 - 1/t0) for α, t0, t1 in zip(α0, T0, T1)]\n",
    "\n",
    "table({'Fréquence [Hz]': F, '$α_0$': α0, '$α_1$': α1})\n",
    "\n",
    "draw(F, 'f [Hz]', α1, r'$\\alpha_1$', diagram = plt.scatter)"
   ]
  }
 ],
 "metadata": {
  "celltoolbar": "Aucun(e)",
  "hide_code_all_hidden": true,
  "kernelspec": {
   "display_name": "Python 3",
   "language": "python",
   "name": "python3"
  },
  "language_info": {
   "codemirror_mode": {
    "name": "ipython",
    "version": 3
   },
   "file_extension": ".py",
   "mimetype": "text/x-python",
   "name": "python",
   "nbconvert_exporter": "python",
   "pygments_lexer": "ipython3",
   "version": "3.8.5"
  }
 },
 "nbformat": 4,
 "nbformat_minor": 4
}
