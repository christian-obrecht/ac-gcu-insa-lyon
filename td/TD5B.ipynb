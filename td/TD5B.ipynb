{
 "cells": [
  {
   "cell_type": "markdown",
   "metadata": {
    "lines_to_next_cell": 0,
    "slideshow": {
     "slide_type": "slide"
    }
   },
   "source": [
    "# TD5 - Exercice 2\n",
    "\n",
    "Isolement brut :\n",
    "$$D_b=L_1-L_2$$"
   ]
  },
  {
   "cell_type": "markdown",
   "metadata": {
    "slideshow": {
     "slide_type": "fragment"
    }
   },
   "source": [
    "Champ révervéré :\n",
    "$$L_1 = L_w + 10\\log\\left(\\frac{4}{CL_1}\\right)$$\n",
    "\n",
    "$$CL_1=\\frac{A}{1-A/S}\\qquad A_1=\\frac{0{,}163V}{T_r}$$"
   ]
  },
  {
   "cell_type": "markdown",
   "metadata": {
    "slideshow": {
     "slide_type": "subslide"
    }
   },
   "source": [
    "Propagation directe et par le faux-plafond :\n",
    "$$L_2=L'_2\\oplus L''_2$$"
   ]
  },
  {
   "cell_type": "markdown",
   "metadata": {
    "lines_to_next_cell": 0,
    "slideshow": {
     "slide_type": "fragment"
    }
   },
   "source": [
    "Propagation directe :\n",
    "$$L_1-L'_2=R_1+10\\log\\left(\\frac{CL_2}{S_s}\\right)$$"
   ]
  },
  {
   "cell_type": "markdown",
   "metadata": {
    "slideshow": {
     "slide_type": "fragment"
    }
   },
   "source": [
    "Propagation par le faux-plafond :\n",
    "$$L_1-L_3=R_2+10\\log\\left(\\frac{CL_3}{S_p}\\right)\\qquad CL_3\\approx A_3$$\n",
    "\n",
    "$$L_3-L''_2=R_2+10\\log\\left(\\frac{CL_2}{S_p}\\right)$$"
   ]
  },
  {
   "cell_type": "markdown",
   "metadata": {
    "slideshow": {
     "slide_type": "fragment"
    }
   },
   "source": [
    "$$L_1-L''_2=2R_2+10\\log\\left(\\frac{CL_2A_3}{S_p^2}\\right)$$"
   ]
  },
  {
   "cell_type": "code",
   "execution_count": 1,
   "metadata": {
    "hideCode": true,
    "hidePrompt": true,
    "slideshow": {
     "slide_type": "skip"
    }
   },
   "outputs": [],
   "source": [
    "\"\"\"\n",
    "INSA Lyon - Département Génie Civil et Urbanisme\n",
    "Travaux dirigés d'acoustique du bâtiment\n",
    "\n",
    "Copyright © 2021 Christian Obrecht <christian.obrecht@insa-lyon.fr>\n",
    "\n",
    "Ce document est distribué sous licence Creative Commons CC-BY-NC-SA\n",
    "\"\"\"\n",
    "\n",
    "from math import log10\n",
    "from pandas import DataFrame, set_option\n",
    "\n",
    "# Somme logarithmique d'une liste\n",
    "def lsum(L):\n",
    "    return 10*log10(sum([10**(l/10) for l in L]))\n",
    "\n",
    "# Présentation sous la forme d'un tableau\n",
    "def table(d):\n",
    "    display(DataFrame(d).set_index(list(d.keys())[0]).T)\n",
    "\n",
    "set_option(\"display.precision\", 1)"
   ]
  },
  {
   "cell_type": "code",
   "execution_count": 13,
   "metadata": {
    "hideCode": false,
    "hidePrompt": true,
    "lines_to_next_cell": 0,
    "slideshow": {
     "slide_type": "subslide"
    }
   },
   "outputs": [
    {
     "data": {
      "text/html": [
       "<div>\n",
       "<style scoped>\n",
       "    .dataframe tbody tr th:only-of-type {\n",
       "        vertical-align: middle;\n",
       "    }\n",
       "\n",
       "    .dataframe tbody tr th {\n",
       "        vertical-align: top;\n",
       "    }\n",
       "\n",
       "    .dataframe thead th {\n",
       "        text-align: right;\n",
       "    }\n",
       "</style>\n",
       "<table border=\"1\" class=\"dataframe\">\n",
       "  <thead>\n",
       "    <tr style=\"text-align: right;\">\n",
       "      <th>Fréquence [Hz]</th>\n",
       "      <th>125</th>\n",
       "      <th>250</th>\n",
       "      <th>500</th>\n",
       "      <th>1000</th>\n",
       "      <th>2000</th>\n",
       "      <th>4000</th>\n",
       "    </tr>\n",
       "  </thead>\n",
       "  <tbody>\n",
       "    <tr>\n",
       "      <th>$L_1$ [dB(A)]</th>\n",
       "      <td>51.8</td>\n",
       "      <td>54.3</td>\n",
       "      <td>54.7</td>\n",
       "      <td>57.9</td>\n",
       "      <td>54.1</td>\n",
       "      <td>46.9</td>\n",
       "    </tr>\n",
       "    <tr>\n",
       "      <th>$L_2$ [dB(A)]</th>\n",
       "      <td>43.6</td>\n",
       "      <td>40.1</td>\n",
       "      <td>42.5</td>\n",
       "      <td>39.7</td>\n",
       "      <td>31.9</td>\n",
       "      <td>18.7</td>\n",
       "    </tr>\n",
       "  </tbody>\n",
       "</table>\n",
       "</div>"
      ],
      "text/plain": [
       "Fréquence [Hz]  125   250   500   1000  2000  4000\n",
       "$L_1$ [dB(A)]   51.8  54.3  54.7  57.9  54.1  46.9\n",
       "$L_2$ [dB(A)]   43.6  40.1  42.5  39.7  31.9  18.7"
      ]
     },
     "metadata": {},
     "output_type": "display_data"
    },
    {
     "name": "stdout",
     "output_type": "stream",
     "text": [
      "Isolement brut global pondéré : 14.2 dB(A)\n"
     ]
    }
   ],
   "source": [
    "F = [125, 250, 500, 1000, 2000, 4000]\n",
    "P = [-16.1, -8.6, -3.2, 0, 1.2, 1]\n",
    "\n",
    "R1 = [36, 47, 53, 55, 58, 58]\n",
    "R2 = [10, 13, 12, 15, 17, 20]\n",
    "Lw = [70, 65, 60, 60, 55, 48]\n",
    "\n",
    "h = 2.5\n",
    "l = 3.5\n",
    "p = 4\n",
    "V = h*l*p \n",
    "S = 2*(h + l)*p\n",
    "Ss = h*p\n",
    "Sp = l*p\n",
    "\n",
    "A3 = 2\n",
    "\n",
    "Tr = 1\n",
    "A = 0.163*V/Tr\n",
    "CL = A/(1 - A/S)\n",
    "\n",
    "L1 = [l + 10*log10(4/CL) for l in Lw]\n",
    "\n",
    "Lp2 = [l - r - 10*log10(CL/Ss) for l, r in zip(L1, R1)]\n",
    "Ls2 = [l - 2*r - 10*log10(CL*A3/Sp**2) for l, r in zip(L1, R2)]\n",
    "L2 = [lsum(l) for l in zip(Lp2, Ls2)]\n",
    "\n",
    "L1p = [l + p for l, p in zip(L1, P)]\n",
    "L2p = [l + p for l, p in zip(L2, P)]\n",
    "\n",
    "table({'Fréquence [Hz]': F, '$L_1$ [dB(A)]': L1p, '$L_2$ [dB(A)]': L2p})\n",
    "\n",
    "print(f\"Isolement brut global pondéré : {lsum(L1p) - lsum(L2p):.1f} dB(A)\")"
   ]
  }
 ],
 "metadata": {
  "celltoolbar": "Aucun(e)",
  "hide_code_all_hidden": false,
  "jupytext": {
   "encoding": "# -*- coding: utf-8 -*-"
  },
  "kernelspec": {
   "display_name": "Python 3",
   "language": "python",
   "name": "python3"
  },
  "language_info": {
   "codemirror_mode": {
    "name": "ipython",
    "version": 3
   },
   "file_extension": ".py",
   "mimetype": "text/x-python",
   "name": "python",
   "nbconvert_exporter": "python",
   "pygments_lexer": "ipython3",
   "version": "3.8.5"
  }
 },
 "nbformat": 4,
 "nbformat_minor": 4
}
