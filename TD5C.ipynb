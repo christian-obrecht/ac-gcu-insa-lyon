{
 "cells": [
  {
   "cell_type": "markdown",
   "metadata": {
    "lines_to_next_cell": 0,
    "slideshow": {
     "slide_type": "slide"
    }
   },
   "source": [
    "# TD5 - Exercice 3\n",
    "\n",
    "Coefficient de transmission pour la surface $i$ :\n",
    "$$\\tau_i = 10^{-\\frac{R_i}{10}}$$\n",
    "\n",
    "Coefficient de transmission moyen :\n",
    "$$\\bar\\tau = \\frac{1}{S}\\sum_{i=1}^n S_i\\tau_i$$\n",
    "\n",
    "Indice d’affaiblissement moyen :\n",
    "$$\\overline{R} = -10\\log\\bar\\tau$$"
   ]
  },
  {
   "cell_type": "code",
   "execution_count": 1,
   "metadata": {
    "hideCode": true,
    "hidePrompt": true
   },
   "outputs": [],
   "source": [
    "\"\"\"\n",
    "INSA Lyon - Département Génie Civil et Urbanisme\n",
    "Travaux dirigés d'acoustique du bâtiment\n",
    "\n",
    "Copyright © 2021 Christian Obrecht <christian.obrecht@insa-lyon.fr>\n",
    "\n",
    "Ce document est distribué sous licence Creative Commons CC-BY-NC-SA\n",
    "\"\"\"\n",
    "\n",
    "from math import log10\n",
    "from pandas import DataFrame, set_option\n",
    "\n",
    "# Somme logarithmique d'une liste\n",
    "def lsum(L):\n",
    "    return 10*log10(sum([10**(l/10) for l in L]))\n",
    "\n",
    "# Présentation sous la forme d'un tableau\n",
    "def table(d):\n",
    "    display(DataFrame(d).set_index(list(d.keys())[0]).T)\n",
    "\n",
    "set_option(\"display.precision\", 1)"
   ]
  },
  {
   "cell_type": "code",
   "execution_count": 2,
   "metadata": {
    "hideCode": false,
    "hidePrompt": true,
    "lines_to_next_cell": 0,
    "slideshow": {
     "slide_type": "subslide"
    }
   },
   "outputs": [
    {
     "data": {
      "text/html": [
       "<div>\n",
       "<style scoped>\n",
       "    .dataframe tbody tr th:only-of-type {\n",
       "        vertical-align: middle;\n",
       "    }\n",
       "\n",
       "    .dataframe tbody tr th {\n",
       "        vertical-align: top;\n",
       "    }\n",
       "\n",
       "    .dataframe thead th {\n",
       "        text-align: right;\n",
       "    }\n",
       "</style>\n",
       "<table border=\"1\" class=\"dataframe\">\n",
       "  <thead>\n",
       "    <tr style=\"text-align: right;\">\n",
       "      <th>Fréquence [Hz]</th>\n",
       "      <th>125</th>\n",
       "      <th>250</th>\n",
       "      <th>500</th>\n",
       "      <th>1000</th>\n",
       "      <th>2000</th>\n",
       "      <th>4000</th>\n",
       "    </tr>\n",
       "  </thead>\n",
       "  <tbody>\n",
       "    <tr>\n",
       "      <th>$R_h$ [dB(A)]</th>\n",
       "      <td>29.8</td>\n",
       "      <td>33.6</td>\n",
       "      <td>37.9</td>\n",
       "      <td>38.0</td>\n",
       "      <td>36.0</td>\n",
       "      <td>32.0</td>\n",
       "    </tr>\n",
       "    <tr>\n",
       "      <th>$R_c$ [dB(A)]</th>\n",
       "      <td>29.3</td>\n",
       "      <td>27.4</td>\n",
       "      <td>30.3</td>\n",
       "      <td>37.0</td>\n",
       "      <td>34.9</td>\n",
       "      <td>32.0</td>\n",
       "    </tr>\n",
       "  </tbody>\n",
       "</table>\n",
       "</div>"
      ],
      "text/plain": [
       "Fréquence [Hz]  125   250   500   1000  2000  4000\n",
       "$R_h$ [dB(A)]   29.8  33.6  37.9  38.0  36.0  32.0\n",
       "$R_c$ [dB(A)]   29.3  27.4  30.3  37.0  34.9  32.0"
      ]
     },
     "metadata": {},
     "output_type": "display_data"
    }
   ],
   "source": [
    "F = [125, 250, 500, 1000, 2000, 4000]\n",
    "\n",
    "S1 = 6 # Cloison\n",
    "S2 = 2 # Porte\n",
    "S = 8\n",
    "\n",
    "Rh1 = [42, 43, 52, 59, 67, 72] # Hall\n",
    "Rh2 = [24, 28, 32, 32, 30, 26]\n",
    "Rc1 = [36, 28, 34, 40, 50, 50] # Chambre\n",
    "Rc2 = [24, 26, 26, 33, 29, 26]\n",
    "\n",
    "def τ(R):\n",
    "    return 10**(-R/10)\n",
    "\n",
    "Rh = [-10*log10((S1*τ(r1) + S2*τ(r2))/S) for r1, r2 in zip(Rh1, Rh2)]\n",
    "Rc = [-10*log10((S1*τ(r1) + S2*τ(r2))/S) for r1, r2 in zip(Rc1, Rc2)]\n",
    "\n",
    "table({'Fréquence [Hz]': F, '$R_h$ [dB(A)]': Rh, '$R_c$ [dB(A)]': Rc})"
   ]
  },
  {
   "cell_type": "code",
   "execution_count": 3,
   "metadata": {
    "hideCode": false,
    "hidePrompt": true,
    "lines_to_next_cell": 0,
    "slideshow": {
     "slide_type": "subslide"
    }
   },
   "outputs": [
    {
     "data": {
      "text/html": [
       "<div>\n",
       "<style scoped>\n",
       "    .dataframe tbody tr th:only-of-type {\n",
       "        vertical-align: middle;\n",
       "    }\n",
       "\n",
       "    .dataframe tbody tr th {\n",
       "        vertical-align: top;\n",
       "    }\n",
       "\n",
       "    .dataframe thead th {\n",
       "        text-align: right;\n",
       "    }\n",
       "</style>\n",
       "<table border=\"1\" class=\"dataframe\">\n",
       "  <thead>\n",
       "    <tr style=\"text-align: right;\">\n",
       "      <th>Fréquence [Hz]</th>\n",
       "      <th>125</th>\n",
       "      <th>250</th>\n",
       "      <th>500</th>\n",
       "      <th>1000</th>\n",
       "      <th>2000</th>\n",
       "      <th>4000</th>\n",
       "    </tr>\n",
       "  </thead>\n",
       "  <tbody>\n",
       "    <tr>\n",
       "      <th>$Db_h$ [dB(A)]</th>\n",
       "      <td>29.6</td>\n",
       "      <td>33.4</td>\n",
       "      <td>37.7</td>\n",
       "      <td>37.8</td>\n",
       "      <td>35.8</td>\n",
       "      <td>31.8</td>\n",
       "    </tr>\n",
       "    <tr>\n",
       "      <th>$Db_c$ [dB(A)]</th>\n",
       "      <td>30.6</td>\n",
       "      <td>28.8</td>\n",
       "      <td>31.7</td>\n",
       "      <td>38.3</td>\n",
       "      <td>36.3</td>\n",
       "      <td>33.3</td>\n",
       "    </tr>\n",
       "  </tbody>\n",
       "</table>\n",
       "</div>"
      ],
      "text/plain": [
       "Fréquence [Hz]  125   250   500   1000  2000  4000\n",
       "$Db_h$ [dB(A)]  29.6  33.4  37.7  37.8  35.8  31.8\n",
       "$Db_c$ [dB(A)]  30.6  28.8  31.7  38.3  36.3  33.3"
      ]
     },
     "metadata": {},
     "output_type": "display_data"
    }
   ],
   "source": [
    "Tr = 0.5\n",
    "\n",
    "Vh = 20\n",
    "Sh = 44.5\n",
    "Ah = 0.163*Vh/Tr\n",
    "CLh = Ah/(1 - Ah/Sh)\n",
    "Dbh = [r + 10*log10(CLh/S) for r in Rh]\n",
    "\n",
    "Vc = 28\n",
    "Sc = 55.9\n",
    "Ac = 0.163*Vc/Tr\n",
    "CLc = Ac/(1 - Ac/Sc)\n",
    "Dbc = [r + 10*log10(CLc/S) for r in Rc]\n",
    "\n",
    "table({'Fréquence [Hz]': F, '$Db_h$ [dB(A)]': Dbh, '$Db_c$ [dB(A)]': Dbc})"
   ]
  },
  {
   "cell_type": "code",
   "execution_count": 4,
   "metadata": {
    "hideCode": false,
    "hidePrompt": true,
    "lines_to_next_cell": 0,
    "slideshow": {
     "slide_type": "subslide"
    }
   },
   "outputs": [
    {
     "data": {
      "text/html": [
       "<div>\n",
       "<style scoped>\n",
       "    .dataframe tbody tr th:only-of-type {\n",
       "        vertical-align: middle;\n",
       "    }\n",
       "\n",
       "    .dataframe tbody tr th {\n",
       "        vertical-align: top;\n",
       "    }\n",
       "\n",
       "    .dataframe thead th {\n",
       "        text-align: right;\n",
       "    }\n",
       "</style>\n",
       "<table border=\"1\" class=\"dataframe\">\n",
       "  <thead>\n",
       "    <tr style=\"text-align: right;\">\n",
       "      <th>Fréquence [Hz]</th>\n",
       "      <th>125</th>\n",
       "      <th>250</th>\n",
       "      <th>500</th>\n",
       "      <th>1000</th>\n",
       "      <th>2000</th>\n",
       "      <th>4000</th>\n",
       "    </tr>\n",
       "  </thead>\n",
       "  <tbody>\n",
       "    <tr>\n",
       "      <th>$L_h$ [dB(A)]</th>\n",
       "      <td>34.3</td>\n",
       "      <td>38.0</td>\n",
       "      <td>39.1</td>\n",
       "      <td>42.2</td>\n",
       "      <td>45.4</td>\n",
       "      <td>49.2</td>\n",
       "    </tr>\n",
       "    <tr>\n",
       "      <th>$L_c$ [dB(A)]</th>\n",
       "      <td>3.7</td>\n",
       "      <td>9.2</td>\n",
       "      <td>7.4</td>\n",
       "      <td>3.9</td>\n",
       "      <td>9.1</td>\n",
       "      <td>15.9</td>\n",
       "    </tr>\n",
       "  </tbody>\n",
       "</table>\n",
       "</div>"
      ],
      "text/plain": [
       "Fréquence [Hz]  125   250   500   1000  2000  4000\n",
       "$L_h$ [dB(A)]   34.3  38.0  39.1  42.2  45.4  49.2\n",
       "$L_c$ [dB(A)]    3.7   9.2   7.4   3.9   9.1  15.9"
      ]
     },
     "metadata": {},
     "output_type": "display_data"
    },
    {
     "name": "stdout",
     "output_type": "stream",
     "text": [
      "Isolement brut global pondéré : 68.1 dB(A)\n"
     ]
    }
   ],
   "source": [
    "P = [-16.1, -8.6, -3.2, 0, 1.2, 1]\n",
    "L0 = [80, 80, 80, 80, 80, 80] # Bruit rose\n",
    "L0p = [l + p for l, p in zip(L0, P)]\n",
    "\n",
    "Lhp = [l - d for l, d in zip(L0p, Dbh)]\n",
    "Lcp = [l - d for l, d in zip(Lhp, Dbc)]\n",
    "\n",
    "table({'Fréquence [Hz]': F, '$L_h$ [dB(A)]': Lhp, '$L_c$ [dB(A)]': Lcp})\n",
    "\n",
    "print(f\"Isolement brut global pondéré : {lsum(L0p) - lsum(Lcp):.1f} dB(A)\")"
   ]
  }
 ],
 "metadata": {
  "celltoolbar": "Aucun(e)",
  "hide_code_all_hidden": false,
  "jupytext": {
   "encoding": "# -*- coding: utf-8 -*-"
  },
  "kernelspec": {
   "display_name": "Python 3",
   "language": "python",
   "name": "python3"
  },
  "language_info": {
   "codemirror_mode": {
    "name": "ipython",
    "version": 3
   },
   "file_extension": ".py",
   "mimetype": "text/x-python",
   "name": "python",
   "nbconvert_exporter": "python",
   "pygments_lexer": "ipython3",
   "version": "3.8.5"
  }
 },
 "nbformat": 4,
 "nbformat_minor": 4
}
